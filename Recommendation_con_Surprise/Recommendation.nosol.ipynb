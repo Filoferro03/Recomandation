{
  "cells": [
    {
      "cell_type": "markdown",
      "metadata": {
        "id": "view-in-github",
        "colab_type": "text"
      },
      "source": [
        "<a href=\"https://colab.research.google.com/github/Filoferro03/Recomandation/blob/main/Recommendation_con_Surprise/Recommendation.nosol.ipynb\" target=\"_parent\"><img src=\"https://colab.research.google.com/assets/colab-badge.svg\" alt=\"Open In Colab\"/></a>"
      ]
    },
    {
      "cell_type": "markdown",
      "metadata": {
        "id": "m6j81VNmxEFZ"
      },
      "source": [
        "# Laboratorio: Recommendation\n",
        "\n",
        "**Programmazione di Applicazioni Data Intensive**  \n",
        "Laurea in Ingegneria e Scienze Informatiche  \n",
        "DISI - Università di Bologna, Cesena\n",
        "\n",
        "Proff. Gianluca Moro, Roberto Pasolini  \n",
        "`nome.cognome@unibo.it`"
      ]
    },
    {
      "cell_type": "markdown",
      "metadata": {
        "id": "V8llqv6wxEFa"
      },
      "source": [
        "## Setup\n",
        "\n",
        "Importare le librerie necessarie"
      ]
    },
    {
      "cell_type": "code",
      "execution_count": 6,
      "metadata": {
        "id": "f894NSuVxEFa"
      },
      "outputs": [],
      "source": [
        "import numpy as np\n",
        "import pandas as pd"
      ]
    },
    {
      "cell_type": "markdown",
      "metadata": {
        "id": "TUkl6jc9xEFa"
      },
      "source": [
        "Nella seconda parte utilizzeremo la libreria **Surprise**\n",
        "\n",
        "Se si utilizza Colab (consigliato), eseguire la cella sotto rimuovendo `#` per installare Surprise con `pip`"
      ]
    },
    {
      "cell_type": "code",
      "execution_count": 1,
      "metadata": {
        "id": "mLwqdu77xEFa",
        "outputId": "3047c506-e6c4-4604-a0ae-a163fcd65e09",
        "colab": {
          "base_uri": "https://localhost:8080/"
        }
      },
      "outputs": [
        {
          "output_type": "stream",
          "name": "stdout",
          "text": [
            "Collecting scikit-surprise\n",
            "  Downloading scikit_surprise-1.1.4.tar.gz (154 kB)\n",
            "\u001b[?25l     \u001b[90m━━━━━━━━━━━━━━━━━━━━━━━━━━━━━━━━━━━━━━━━\u001b[0m \u001b[32m0.0/154.4 kB\u001b[0m \u001b[31m?\u001b[0m eta \u001b[36m-:--:--\u001b[0m\r\u001b[2K     \u001b[91m━━━━━━━━━━━━━━━━━━━━━━━━━━━━━━━━━━━━━━\u001b[0m\u001b[91m╸\u001b[0m \u001b[32m153.6/154.4 kB\u001b[0m \u001b[31m4.8 MB/s\u001b[0m eta \u001b[36m0:00:01\u001b[0m\r\u001b[2K     \u001b[90m━━━━━━━━━━━━━━━━━━━━━━━━━━━━━━━━━━━━━━━\u001b[0m \u001b[32m154.4/154.4 kB\u001b[0m \u001b[31m2.6 MB/s\u001b[0m eta \u001b[36m0:00:00\u001b[0m\n",
            "\u001b[?25h  Installing build dependencies ... \u001b[?25l\u001b[?25hdone\n",
            "  Getting requirements to build wheel ... \u001b[?25l\u001b[?25hdone\n",
            "  Preparing metadata (pyproject.toml) ... \u001b[?25l\u001b[?25hdone\n",
            "Requirement already satisfied: joblib>=1.2.0 in /usr/local/lib/python3.11/dist-packages (from scikit-surprise) (1.4.2)\n",
            "Requirement already satisfied: numpy>=1.19.5 in /usr/local/lib/python3.11/dist-packages (from scikit-surprise) (2.0.2)\n",
            "Requirement already satisfied: scipy>=1.6.0 in /usr/local/lib/python3.11/dist-packages (from scikit-surprise) (1.15.2)\n",
            "Building wheels for collected packages: scikit-surprise\n",
            "  Building wheel for scikit-surprise (pyproject.toml) ... \u001b[?25l\u001b[?25hdone\n",
            "  Created wheel for scikit-surprise: filename=scikit_surprise-1.1.4-cp311-cp311-linux_x86_64.whl size=2461561 sha256=ef8ba43780cfb9ef339ee55103093364a09158b16cee08e837d03e7230422689\n",
            "  Stored in directory: /root/.cache/pip/wheels/2a/8f/6e/7e2899163e2d85d8266daab4aa1cdabec7a6c56f83c015b5af\n",
            "Successfully built scikit-surprise\n",
            "Installing collected packages: scikit-surprise\n",
            "Successfully installed scikit-surprise-1.1.4\n"
          ]
        }
      ],
      "source": [
        " pip install scikit-surprise"
      ]
    },
    {
      "cell_type": "markdown",
      "metadata": {
        "id": "V71_Kq1HxEFb"
      },
      "source": [
        "Se si utilizza un ambiente Anaconda, eseguire la cella sotto rimuovendo `#` per installare Surprise con `conda`"
      ]
    },
    {
      "cell_type": "code",
      "execution_count": null,
      "metadata": {
        "id": "Vrilrp2jxEFb"
      },
      "outputs": [],
      "source": [
        "# conda install -c conda-forge scikit-surprise"
      ]
    },
    {
      "cell_type": "markdown",
      "metadata": {
        "id": "zFdx29E3xEFb"
      },
      "source": [
        "In altri casi installare con `pip` come sopra\n",
        "\n",
        "_Può essere richiesta la compilazione dei sorgenti, in tal caso accertarsi di aver installato il package wheel (`pip install wheel`) e un compilatore C con le librerie Python (es. su Debian, Ubuntu e derivati `sudo apt install build-essentials python3-dev`)_\n",
        "\n",
        "Una volta installato Surprise, eseguirne l'import per verifica"
      ]
    },
    {
      "cell_type": "code",
      "execution_count": 3,
      "metadata": {
        "id": "dhLbBJYfxEFb",
        "outputId": "1e866e32-30ad-4acf-9554-a0da381e682c",
        "colab": {
          "base_uri": "https://localhost:8080/",
          "height": 1000
        }
      },
      "outputs": [
        {
          "output_type": "stream",
          "name": "stderr",
          "text": [
            "\n",
            "A module that was compiled using NumPy 1.x cannot be run in\n",
            "NumPy 2.0.2 as it may crash. To support both 1.x and 2.x\n",
            "versions of NumPy, modules must be compiled with NumPy 2.0.\n",
            "Some module may need to rebuild instead e.g. with 'pybind11>=2.12'.\n",
            "\n",
            "If you are a user of the module, the easiest solution will be to\n",
            "downgrade to 'numpy<2' or try to upgrade the affected module.\n",
            "We expect that some modules will need time to support NumPy 2.\n",
            "\n",
            "Traceback (most recent call last):  File \"<frozen runpy>\", line 198, in _run_module_as_main\n",
            "  File \"<frozen runpy>\", line 88, in _run_code\n",
            "  File \"/usr/local/lib/python3.11/dist-packages/colab_kernel_launcher.py\", line 37, in <module>\n",
            "    ColabKernelApp.launch_instance()\n",
            "  File \"/usr/local/lib/python3.11/dist-packages/traitlets/config/application.py\", line 992, in launch_instance\n",
            "    app.start()\n",
            "  File \"/usr/local/lib/python3.11/dist-packages/ipykernel/kernelapp.py\", line 712, in start\n",
            "    self.io_loop.start()\n",
            "  File \"/usr/local/lib/python3.11/dist-packages/tornado/platform/asyncio.py\", line 205, in start\n",
            "    self.asyncio_loop.run_forever()\n",
            "  File \"/usr/lib/python3.11/asyncio/base_events.py\", line 608, in run_forever\n",
            "    self._run_once()\n",
            "  File \"/usr/lib/python3.11/asyncio/base_events.py\", line 1936, in _run_once\n",
            "    handle._run()\n",
            "  File \"/usr/lib/python3.11/asyncio/events.py\", line 84, in _run\n",
            "    self._context.run(self._callback, *self._args)\n",
            "  File \"/usr/local/lib/python3.11/dist-packages/ipykernel/kernelbase.py\", line 510, in dispatch_queue\n",
            "    await self.process_one()\n",
            "  File \"/usr/local/lib/python3.11/dist-packages/ipykernel/kernelbase.py\", line 499, in process_one\n",
            "    await dispatch(*args)\n",
            "  File \"/usr/local/lib/python3.11/dist-packages/ipykernel/kernelbase.py\", line 406, in dispatch_shell\n",
            "    await result\n",
            "  File \"/usr/local/lib/python3.11/dist-packages/ipykernel/kernelbase.py\", line 730, in execute_request\n",
            "    reply_content = await reply_content\n",
            "  File \"/usr/local/lib/python3.11/dist-packages/ipykernel/ipkernel.py\", line 383, in do_execute\n",
            "    res = shell.run_cell(\n",
            "  File \"/usr/local/lib/python3.11/dist-packages/ipykernel/zmqshell.py\", line 528, in run_cell\n",
            "    return super().run_cell(*args, **kwargs)\n",
            "  File \"/usr/local/lib/python3.11/dist-packages/IPython/core/interactiveshell.py\", line 2975, in run_cell\n",
            "    result = self._run_cell(\n",
            "  File \"/usr/local/lib/python3.11/dist-packages/IPython/core/interactiveshell.py\", line 3030, in _run_cell\n",
            "    return runner(coro)\n",
            "  File \"/usr/local/lib/python3.11/dist-packages/IPython/core/async_helpers.py\", line 78, in _pseudo_sync_runner\n",
            "    coro.send(None)\n",
            "  File \"/usr/local/lib/python3.11/dist-packages/IPython/core/interactiveshell.py\", line 3257, in run_cell_async\n",
            "    has_raised = await self.run_ast_nodes(code_ast.body, cell_name,\n",
            "  File \"/usr/local/lib/python3.11/dist-packages/IPython/core/interactiveshell.py\", line 3473, in run_ast_nodes\n",
            "    if (await self.run_code(code, result,  async_=asy)):\n",
            "  File \"/usr/local/lib/python3.11/dist-packages/IPython/core/interactiveshell.py\", line 3553, in run_code\n",
            "    exec(code_obj, self.user_global_ns, self.user_ns)\n",
            "  File \"<ipython-input-3-11277a18e253>\", line 1, in <cell line: 0>\n",
            "    import surprise\n",
            "  File \"/usr/local/lib/python3.11/dist-packages/surprise/__init__.py\", line 6, in <module>\n",
            "    from .prediction_algorithms import (\n",
            "  File \"/usr/local/lib/python3.11/dist-packages/surprise/prediction_algorithms/__init__.py\", line 23, in <module>\n",
            "    from .algo_base import AlgoBase\n",
            "  File \"/usr/local/lib/python3.11/dist-packages/surprise/prediction_algorithms/algo_base.py\", line 8, in <module>\n",
            "    from .. import similarities as sims\n"
          ]
        },
        {
          "output_type": "error",
          "ename": "ImportError",
          "evalue": "numpy.core.multiarray failed to import (auto-generated because you didn't call 'numpy.import_array()' after cimporting numpy; use '<void>numpy._import_array' to disable if you are certain you don't need it).",
          "traceback": [
            "\u001b[0;31m---------------------------------------------------------------------------\u001b[0m",
            "\u001b[0;31mImportError\u001b[0m                               Traceback (most recent call last)",
            "\u001b[0;32m<ipython-input-3-11277a18e253>\u001b[0m in \u001b[0;36m<cell line: 0>\u001b[0;34m()\u001b[0m\n\u001b[0;32m----> 1\u001b[0;31m \u001b[0;32mimport\u001b[0m \u001b[0msurprise\u001b[0m\u001b[0;34m\u001b[0m\u001b[0;34m\u001b[0m\u001b[0m\n\u001b[0m\u001b[1;32m      2\u001b[0m \u001b[0msurprise\u001b[0m\u001b[0;34m.\u001b[0m\u001b[0m__version__\u001b[0m\u001b[0;34m\u001b[0m\u001b[0;34m\u001b[0m\u001b[0m\n",
            "\u001b[0;32m/usr/local/lib/python3.11/dist-packages/surprise/__init__.py\u001b[0m in \u001b[0;36m<module>\u001b[0;34m\u001b[0m\n\u001b[1;32m      4\u001b[0m \u001b[0;32mfrom\u001b[0m \u001b[0;34m.\u001b[0m\u001b[0mdataset\u001b[0m \u001b[0;32mimport\u001b[0m \u001b[0mDataset\u001b[0m\u001b[0;34m\u001b[0m\u001b[0;34m\u001b[0m\u001b[0m\n\u001b[1;32m      5\u001b[0m \u001b[0;34m\u001b[0m\u001b[0m\n\u001b[0;32m----> 6\u001b[0;31m from .prediction_algorithms import (\n\u001b[0m\u001b[1;32m      7\u001b[0m     \u001b[0mAlgoBase\u001b[0m\u001b[0;34m,\u001b[0m\u001b[0;34m\u001b[0m\u001b[0;34m\u001b[0m\u001b[0m\n\u001b[1;32m      8\u001b[0m     \u001b[0mBaselineOnly\u001b[0m\u001b[0;34m,\u001b[0m\u001b[0;34m\u001b[0m\u001b[0;34m\u001b[0m\u001b[0m\n",
            "\u001b[0;32m/usr/local/lib/python3.11/dist-packages/surprise/prediction_algorithms/__init__.py\u001b[0m in \u001b[0;36m<module>\u001b[0;34m\u001b[0m\n\u001b[1;32m     21\u001b[0m \"\"\"\n\u001b[1;32m     22\u001b[0m \u001b[0;34m\u001b[0m\u001b[0m\n\u001b[0;32m---> 23\u001b[0;31m \u001b[0;32mfrom\u001b[0m \u001b[0;34m.\u001b[0m\u001b[0malgo_base\u001b[0m \u001b[0;32mimport\u001b[0m \u001b[0mAlgoBase\u001b[0m\u001b[0;34m\u001b[0m\u001b[0;34m\u001b[0m\u001b[0m\n\u001b[0m\u001b[1;32m     24\u001b[0m \u001b[0;32mfrom\u001b[0m \u001b[0;34m.\u001b[0m\u001b[0mbaseline_only\u001b[0m \u001b[0;32mimport\u001b[0m \u001b[0mBaselineOnly\u001b[0m\u001b[0;34m\u001b[0m\u001b[0;34m\u001b[0m\u001b[0m\n\u001b[1;32m     25\u001b[0m \u001b[0;32mfrom\u001b[0m \u001b[0;34m.\u001b[0m\u001b[0mco_clustering\u001b[0m \u001b[0;32mimport\u001b[0m \u001b[0mCoClustering\u001b[0m\u001b[0;34m\u001b[0m\u001b[0;34m\u001b[0m\u001b[0m\n",
            "\u001b[0;32m/usr/local/lib/python3.11/dist-packages/surprise/prediction_algorithms/algo_base.py\u001b[0m in \u001b[0;36m<module>\u001b[0;34m\u001b[0m\n\u001b[1;32m      6\u001b[0m \u001b[0;32mimport\u001b[0m \u001b[0mheapq\u001b[0m\u001b[0;34m\u001b[0m\u001b[0;34m\u001b[0m\u001b[0m\n\u001b[1;32m      7\u001b[0m \u001b[0;34m\u001b[0m\u001b[0m\n\u001b[0;32m----> 8\u001b[0;31m \u001b[0;32mfrom\u001b[0m \u001b[0;34m.\u001b[0m\u001b[0;34m.\u001b[0m \u001b[0;32mimport\u001b[0m \u001b[0msimilarities\u001b[0m \u001b[0;32mas\u001b[0m \u001b[0msims\u001b[0m\u001b[0;34m\u001b[0m\u001b[0;34m\u001b[0m\u001b[0m\n\u001b[0m\u001b[1;32m      9\u001b[0m \u001b[0;32mfrom\u001b[0m \u001b[0;34m.\u001b[0m\u001b[0moptimize_baselines\u001b[0m \u001b[0;32mimport\u001b[0m \u001b[0mbaseline_als\u001b[0m\u001b[0;34m,\u001b[0m \u001b[0mbaseline_sgd\u001b[0m\u001b[0;34m\u001b[0m\u001b[0;34m\u001b[0m\u001b[0m\n\u001b[1;32m     10\u001b[0m \u001b[0;32mfrom\u001b[0m \u001b[0;34m.\u001b[0m\u001b[0mpredictions\u001b[0m \u001b[0;32mimport\u001b[0m \u001b[0mPrediction\u001b[0m\u001b[0;34m,\u001b[0m \u001b[0mPredictionImpossible\u001b[0m\u001b[0;34m\u001b[0m\u001b[0;34m\u001b[0m\u001b[0m\n",
            "\u001b[0;32m/usr/local/lib/python3.11/dist-packages/surprise/similarities.pyx\u001b[0m in \u001b[0;36minit surprise.similarities\u001b[0;34m()\u001b[0m\n",
            "\u001b[0;31mImportError\u001b[0m: numpy.core.multiarray failed to import (auto-generated because you didn't call 'numpy.import_array()' after cimporting numpy; use '<void>numpy._import_array' to disable if you are certain you don't need it).",
            "",
            "\u001b[0;31m---------------------------------------------------------------------------\u001b[0;32m\nNOTE: If your import is failing due to a missing package, you can\nmanually install dependencies using either !pip or !apt.\n\nTo view examples of installing some common dependencies, click the\n\"Open Examples\" button below.\n\u001b[0;31m---------------------------------------------------------------------------\u001b[0m\n"
          ],
          "errorDetails": {
            "actions": [
              {
                "action": "open_url",
                "actionText": "Open Examples",
                "url": "/notebooks/snippets/importing_libraries.ipynb"
              }
            ]
          }
        }
      ],
      "source": [
        "import surprise\n",
        "surprise.__version__"
      ]
    },
    {
      "cell_type": "markdown",
      "metadata": {
        "id": "q88R178SxEFb"
      },
      "source": [
        "## Recommendation e collaborative filtering\n",
        "\n",
        "I sistemi di _recommendation_ sono usati in molti contesti per suggerire agli **utenti** di un servizio alcuni degli **oggetti** offerti, in modo mirato secondo i loro interessi\n",
        "\n",
        "- suggerire prodotti da acquistare su Amazon\n",
        "- suggerire film o serie da vedere su Netflix\n",
        "- suggerire canzoni da ascoltare su Spotify\n",
        "- ...\n",
        "\n",
        "I metodi di _collaborative filtering_ forniscono suggerimenti sulla base delle **associazioni** esistenti tra utenti e oggetti, ad esempio i **voti** dati dagli utenti agli oggetti\n",
        "\n",
        "Nel collaborative filtering non vengono invece usate informazioni specifiche su singoli utenti (es. età) e oggetti (es. categoria)"
      ]
    },
    {
      "cell_type": "markdown",
      "metadata": {
        "id": "OwTffKebxEFb"
      },
      "source": [
        "## Recommendation su dati Amazon\n",
        "\n",
        "Nelle prime esercitazioni avevamo visto un metodo di recommendation semplice applicato su dati di vendite estratti da Amazon\n",
        "\n",
        "Riprendiamo ora gli stessi dati, ma includendo l'informazione sui **voti dati dai clienti**\n",
        "\n",
        "I dati sono divisi in due file CSV\n",
        "\n",
        "- uno contenente i voti raccolti fino alla fine del 2000, da usare come training set\n",
        "- uno contenente i voti raccolti dal 2001 in poi, da usare come validation set\n",
        "\n",
        "Scarichiamo i due file"
      ]
    },
    {
      "cell_type": "code",
      "execution_count": 4,
      "metadata": {
        "id": "_bOpHcScxEFb"
      },
      "outputs": [],
      "source": [
        "import os.path\n",
        "from urllib.request import urlretrieve\n",
        "if not os.path.exists(\"amazon_train.csv\"):\n",
        "    urlretrieve(\"https://bit.ly/2LdmgTR\", \"amazon_train.csv\")\n",
        "if not os.path.exists(\"amazon_val.csv\"):\n",
        "    urlretrieve(\"https://bit.ly/2IPlyxO\", \"amazon_val.csv\")"
      ]
    },
    {
      "cell_type": "markdown",
      "metadata": {
        "id": "r8Q8Gw1-xEFc"
      },
      "source": [
        "Ciascun file CSV contiene tre colonne, nell'ordine:\n",
        "\n",
        "- codice e nome dell'utente\n",
        "- codice e nome del prodotto (film in VHS)\n",
        "- voto assegnato, da 1 a 5 stelle\n",
        "\n",
        "Carichiamo il file di training in un frame pandas con `read_csv` _(`header=None` indica che il file **non** contiene una riga di intestazione, con `names` indichiamo manualmente i nomi delle colonne)_"
      ]
    },
    {
      "cell_type": "code",
      "execution_count": 7,
      "metadata": {
        "id": "hCGjoTzpxEFc"
      },
      "outputs": [],
      "source": [
        "amazon_train = pd.read_csv(\n",
        "    \"amazon_train.csv\",\n",
        "    header=None,\n",
        "    names=[\"user\", \"item\", \"rating\"],\n",
        ")"
      ]
    },
    {
      "cell_type": "markdown",
      "metadata": {
        "id": "P8o6i4X6xEFc"
      },
      "source": [
        "Vediamo i dati caricati"
      ]
    },
    {
      "cell_type": "code",
      "execution_count": 8,
      "metadata": {
        "id": "meDZL23BxEFc",
        "outputId": "aaae8b5e-67b9-44e9-862b-e36b8051d348",
        "colab": {
          "base_uri": "https://localhost:8080/",
          "height": 363
        }
      },
      "outputs": [
        {
          "output_type": "execute_result",
          "data": {
            "text/plain": [
              "                            user                                       item  \\\n",
              "0       [624547] Roland E. Zwick                [96429] Varsity Blues [VHS]   \n",
              "1       [624547] Roland E. Zwick                   [96654] Miss Julie [VHS]   \n",
              "2  [1201103] Benjamin J Burgraff         [47474] The Last Starfighter [VHS]   \n",
              "3  [81819] dsrussell \"greyhater\"               [95902] Meet Joe Black [VHS]   \n",
              "4             [1092996] Reviewer           [43720] Honeymoon in Vegas [VHS]   \n",
              "5            [1169585] Brooke276     [43871] Mccabe &amp; Mrs. Miller [VHS]   \n",
              "6   [652570] Lawrance M. Bernabo                [101985] Little Women [VHS]   \n",
              "7             [1092996] Reviewer            [100268] American Dreamer [VHS]   \n",
              "8           [891040] casualsuede             [101569] Better Off Dead [VHS]   \n",
              "9         [125883] \"flickjunkie\"  [55450] Mr Smith Goes to Washington [VHS]   \n",
              "\n",
              "   rating  \n",
              "0       2  \n",
              "1       3  \n",
              "2       4  \n",
              "3       3  \n",
              "4       3  \n",
              "5       5  \n",
              "6       5  \n",
              "7       4  \n",
              "8       3  \n",
              "9       5  "
            ],
            "text/html": [
              "\n",
              "  <div id=\"df-5eff2444-c71d-4e3e-939d-758c97c8fa3e\" class=\"colab-df-container\">\n",
              "    <div>\n",
              "<style scoped>\n",
              "    .dataframe tbody tr th:only-of-type {\n",
              "        vertical-align: middle;\n",
              "    }\n",
              "\n",
              "    .dataframe tbody tr th {\n",
              "        vertical-align: top;\n",
              "    }\n",
              "\n",
              "    .dataframe thead th {\n",
              "        text-align: right;\n",
              "    }\n",
              "</style>\n",
              "<table border=\"1\" class=\"dataframe\">\n",
              "  <thead>\n",
              "    <tr style=\"text-align: right;\">\n",
              "      <th></th>\n",
              "      <th>user</th>\n",
              "      <th>item</th>\n",
              "      <th>rating</th>\n",
              "    </tr>\n",
              "  </thead>\n",
              "  <tbody>\n",
              "    <tr>\n",
              "      <th>0</th>\n",
              "      <td>[624547] Roland E. Zwick</td>\n",
              "      <td>[96429] Varsity Blues [VHS]</td>\n",
              "      <td>2</td>\n",
              "    </tr>\n",
              "    <tr>\n",
              "      <th>1</th>\n",
              "      <td>[624547] Roland E. Zwick</td>\n",
              "      <td>[96654] Miss Julie [VHS]</td>\n",
              "      <td>3</td>\n",
              "    </tr>\n",
              "    <tr>\n",
              "      <th>2</th>\n",
              "      <td>[1201103] Benjamin J Burgraff</td>\n",
              "      <td>[47474] The Last Starfighter [VHS]</td>\n",
              "      <td>4</td>\n",
              "    </tr>\n",
              "    <tr>\n",
              "      <th>3</th>\n",
              "      <td>[81819] dsrussell \"greyhater\"</td>\n",
              "      <td>[95902] Meet Joe Black [VHS]</td>\n",
              "      <td>3</td>\n",
              "    </tr>\n",
              "    <tr>\n",
              "      <th>4</th>\n",
              "      <td>[1092996] Reviewer</td>\n",
              "      <td>[43720] Honeymoon in Vegas [VHS]</td>\n",
              "      <td>3</td>\n",
              "    </tr>\n",
              "    <tr>\n",
              "      <th>5</th>\n",
              "      <td>[1169585] Brooke276</td>\n",
              "      <td>[43871] Mccabe &amp;amp; Mrs. Miller [VHS]</td>\n",
              "      <td>5</td>\n",
              "    </tr>\n",
              "    <tr>\n",
              "      <th>6</th>\n",
              "      <td>[652570] Lawrance M. Bernabo</td>\n",
              "      <td>[101985] Little Women [VHS]</td>\n",
              "      <td>5</td>\n",
              "    </tr>\n",
              "    <tr>\n",
              "      <th>7</th>\n",
              "      <td>[1092996] Reviewer</td>\n",
              "      <td>[100268] American Dreamer [VHS]</td>\n",
              "      <td>4</td>\n",
              "    </tr>\n",
              "    <tr>\n",
              "      <th>8</th>\n",
              "      <td>[891040] casualsuede</td>\n",
              "      <td>[101569] Better Off Dead [VHS]</td>\n",
              "      <td>3</td>\n",
              "    </tr>\n",
              "    <tr>\n",
              "      <th>9</th>\n",
              "      <td>[125883] \"flickjunkie\"</td>\n",
              "      <td>[55450] Mr Smith Goes to Washington [VHS]</td>\n",
              "      <td>5</td>\n",
              "    </tr>\n",
              "  </tbody>\n",
              "</table>\n",
              "</div>\n",
              "    <div class=\"colab-df-buttons\">\n",
              "\n",
              "  <div class=\"colab-df-container\">\n",
              "    <button class=\"colab-df-convert\" onclick=\"convertToInteractive('df-5eff2444-c71d-4e3e-939d-758c97c8fa3e')\"\n",
              "            title=\"Convert this dataframe to an interactive table.\"\n",
              "            style=\"display:none;\">\n",
              "\n",
              "  <svg xmlns=\"http://www.w3.org/2000/svg\" height=\"24px\" viewBox=\"0 -960 960 960\">\n",
              "    <path d=\"M120-120v-720h720v720H120Zm60-500h600v-160H180v160Zm220 220h160v-160H400v160Zm0 220h160v-160H400v160ZM180-400h160v-160H180v160Zm440 0h160v-160H620v160ZM180-180h160v-160H180v160Zm440 0h160v-160H620v160Z\"/>\n",
              "  </svg>\n",
              "    </button>\n",
              "\n",
              "  <style>\n",
              "    .colab-df-container {\n",
              "      display:flex;\n",
              "      gap: 12px;\n",
              "    }\n",
              "\n",
              "    .colab-df-convert {\n",
              "      background-color: #E8F0FE;\n",
              "      border: none;\n",
              "      border-radius: 50%;\n",
              "      cursor: pointer;\n",
              "      display: none;\n",
              "      fill: #1967D2;\n",
              "      height: 32px;\n",
              "      padding: 0 0 0 0;\n",
              "      width: 32px;\n",
              "    }\n",
              "\n",
              "    .colab-df-convert:hover {\n",
              "      background-color: #E2EBFA;\n",
              "      box-shadow: 0px 1px 2px rgba(60, 64, 67, 0.3), 0px 1px 3px 1px rgba(60, 64, 67, 0.15);\n",
              "      fill: #174EA6;\n",
              "    }\n",
              "\n",
              "    .colab-df-buttons div {\n",
              "      margin-bottom: 4px;\n",
              "    }\n",
              "\n",
              "    [theme=dark] .colab-df-convert {\n",
              "      background-color: #3B4455;\n",
              "      fill: #D2E3FC;\n",
              "    }\n",
              "\n",
              "    [theme=dark] .colab-df-convert:hover {\n",
              "      background-color: #434B5C;\n",
              "      box-shadow: 0px 1px 3px 1px rgba(0, 0, 0, 0.15);\n",
              "      filter: drop-shadow(0px 1px 2px rgba(0, 0, 0, 0.3));\n",
              "      fill: #FFFFFF;\n",
              "    }\n",
              "  </style>\n",
              "\n",
              "    <script>\n",
              "      const buttonEl =\n",
              "        document.querySelector('#df-5eff2444-c71d-4e3e-939d-758c97c8fa3e button.colab-df-convert');\n",
              "      buttonEl.style.display =\n",
              "        google.colab.kernel.accessAllowed ? 'block' : 'none';\n",
              "\n",
              "      async function convertToInteractive(key) {\n",
              "        const element = document.querySelector('#df-5eff2444-c71d-4e3e-939d-758c97c8fa3e');\n",
              "        const dataTable =\n",
              "          await google.colab.kernel.invokeFunction('convertToInteractive',\n",
              "                                                    [key], {});\n",
              "        if (!dataTable) return;\n",
              "\n",
              "        const docLinkHtml = 'Like what you see? Visit the ' +\n",
              "          '<a target=\"_blank\" href=https://colab.research.google.com/notebooks/data_table.ipynb>data table notebook</a>'\n",
              "          + ' to learn more about interactive tables.';\n",
              "        element.innerHTML = '';\n",
              "        dataTable['output_type'] = 'display_data';\n",
              "        await google.colab.output.renderOutput(dataTable, element);\n",
              "        const docLink = document.createElement('div');\n",
              "        docLink.innerHTML = docLinkHtml;\n",
              "        element.appendChild(docLink);\n",
              "      }\n",
              "    </script>\n",
              "  </div>\n",
              "\n",
              "\n",
              "    <div id=\"df-7b64b00d-8664-44ba-a10f-9814611918ca\">\n",
              "      <button class=\"colab-df-quickchart\" onclick=\"quickchart('df-7b64b00d-8664-44ba-a10f-9814611918ca')\"\n",
              "                title=\"Suggest charts\"\n",
              "                style=\"display:none;\">\n",
              "\n",
              "<svg xmlns=\"http://www.w3.org/2000/svg\" height=\"24px\"viewBox=\"0 0 24 24\"\n",
              "     width=\"24px\">\n",
              "    <g>\n",
              "        <path d=\"M19 3H5c-1.1 0-2 .9-2 2v14c0 1.1.9 2 2 2h14c1.1 0 2-.9 2-2V5c0-1.1-.9-2-2-2zM9 17H7v-7h2v7zm4 0h-2V7h2v10zm4 0h-2v-4h2v4z\"/>\n",
              "    </g>\n",
              "</svg>\n",
              "      </button>\n",
              "\n",
              "<style>\n",
              "  .colab-df-quickchart {\n",
              "      --bg-color: #E8F0FE;\n",
              "      --fill-color: #1967D2;\n",
              "      --hover-bg-color: #E2EBFA;\n",
              "      --hover-fill-color: #174EA6;\n",
              "      --disabled-fill-color: #AAA;\n",
              "      --disabled-bg-color: #DDD;\n",
              "  }\n",
              "\n",
              "  [theme=dark] .colab-df-quickchart {\n",
              "      --bg-color: #3B4455;\n",
              "      --fill-color: #D2E3FC;\n",
              "      --hover-bg-color: #434B5C;\n",
              "      --hover-fill-color: #FFFFFF;\n",
              "      --disabled-bg-color: #3B4455;\n",
              "      --disabled-fill-color: #666;\n",
              "  }\n",
              "\n",
              "  .colab-df-quickchart {\n",
              "    background-color: var(--bg-color);\n",
              "    border: none;\n",
              "    border-radius: 50%;\n",
              "    cursor: pointer;\n",
              "    display: none;\n",
              "    fill: var(--fill-color);\n",
              "    height: 32px;\n",
              "    padding: 0;\n",
              "    width: 32px;\n",
              "  }\n",
              "\n",
              "  .colab-df-quickchart:hover {\n",
              "    background-color: var(--hover-bg-color);\n",
              "    box-shadow: 0 1px 2px rgba(60, 64, 67, 0.3), 0 1px 3px 1px rgba(60, 64, 67, 0.15);\n",
              "    fill: var(--button-hover-fill-color);\n",
              "  }\n",
              "\n",
              "  .colab-df-quickchart-complete:disabled,\n",
              "  .colab-df-quickchart-complete:disabled:hover {\n",
              "    background-color: var(--disabled-bg-color);\n",
              "    fill: var(--disabled-fill-color);\n",
              "    box-shadow: none;\n",
              "  }\n",
              "\n",
              "  .colab-df-spinner {\n",
              "    border: 2px solid var(--fill-color);\n",
              "    border-color: transparent;\n",
              "    border-bottom-color: var(--fill-color);\n",
              "    animation:\n",
              "      spin 1s steps(1) infinite;\n",
              "  }\n",
              "\n",
              "  @keyframes spin {\n",
              "    0% {\n",
              "      border-color: transparent;\n",
              "      border-bottom-color: var(--fill-color);\n",
              "      border-left-color: var(--fill-color);\n",
              "    }\n",
              "    20% {\n",
              "      border-color: transparent;\n",
              "      border-left-color: var(--fill-color);\n",
              "      border-top-color: var(--fill-color);\n",
              "    }\n",
              "    30% {\n",
              "      border-color: transparent;\n",
              "      border-left-color: var(--fill-color);\n",
              "      border-top-color: var(--fill-color);\n",
              "      border-right-color: var(--fill-color);\n",
              "    }\n",
              "    40% {\n",
              "      border-color: transparent;\n",
              "      border-right-color: var(--fill-color);\n",
              "      border-top-color: var(--fill-color);\n",
              "    }\n",
              "    60% {\n",
              "      border-color: transparent;\n",
              "      border-right-color: var(--fill-color);\n",
              "    }\n",
              "    80% {\n",
              "      border-color: transparent;\n",
              "      border-right-color: var(--fill-color);\n",
              "      border-bottom-color: var(--fill-color);\n",
              "    }\n",
              "    90% {\n",
              "      border-color: transparent;\n",
              "      border-bottom-color: var(--fill-color);\n",
              "    }\n",
              "  }\n",
              "</style>\n",
              "\n",
              "      <script>\n",
              "        async function quickchart(key) {\n",
              "          const quickchartButtonEl =\n",
              "            document.querySelector('#' + key + ' button');\n",
              "          quickchartButtonEl.disabled = true;  // To prevent multiple clicks.\n",
              "          quickchartButtonEl.classList.add('colab-df-spinner');\n",
              "          try {\n",
              "            const charts = await google.colab.kernel.invokeFunction(\n",
              "                'suggestCharts', [key], {});\n",
              "          } catch (error) {\n",
              "            console.error('Error during call to suggestCharts:', error);\n",
              "          }\n",
              "          quickchartButtonEl.classList.remove('colab-df-spinner');\n",
              "          quickchartButtonEl.classList.add('colab-df-quickchart-complete');\n",
              "        }\n",
              "        (() => {\n",
              "          let quickchartButtonEl =\n",
              "            document.querySelector('#df-7b64b00d-8664-44ba-a10f-9814611918ca button');\n",
              "          quickchartButtonEl.style.display =\n",
              "            google.colab.kernel.accessAllowed ? 'block' : 'none';\n",
              "        })();\n",
              "      </script>\n",
              "    </div>\n",
              "\n",
              "    </div>\n",
              "  </div>\n"
            ],
            "application/vnd.google.colaboratory.intrinsic+json": {
              "type": "dataframe",
              "variable_name": "amazon_train",
              "summary": "{\n  \"name\": \"amazon_train\",\n  \"rows\": 9683,\n  \"fields\": [\n    {\n      \"column\": \"user\",\n      \"properties\": {\n        \"dtype\": \"category\",\n        \"num_unique_values\": 178,\n        \"samples\": [\n          \"[770638] Mike Freed\",\n          \"[1185145] Aaron Newlands \\\"Sithgod\\\"\",\n          \"[260996] Sam Damon Jr.\"\n        ],\n        \"semantic_type\": \"\",\n        \"description\": \"\"\n      }\n    },\n    {\n      \"column\": \"item\",\n      \"properties\": {\n        \"dtype\": \"category\",\n        \"num_unique_values\": 3384,\n        \"samples\": [\n          \"[102043] Wicked Stepmother [VHS]\",\n          \"[43979] Shane [VHS]\",\n          \"[43341] Scent of a Woman [VHS]\"\n        ],\n        \"semantic_type\": \"\",\n        \"description\": \"\"\n      }\n    },\n    {\n      \"column\": \"rating\",\n      \"properties\": {\n        \"dtype\": \"number\",\n        \"std\": 1,\n        \"min\": 1,\n        \"max\": 5,\n        \"num_unique_values\": 5,\n        \"samples\": [\n          3,\n          1,\n          4\n        ],\n        \"semantic_type\": \"\",\n        \"description\": \"\"\n      }\n    }\n  ]\n}"
            }
          },
          "metadata": {},
          "execution_count": 8
        }
      ],
      "source": [
        "amazon_train.head(10)"
      ]
    },
    {
      "cell_type": "markdown",
      "metadata": {
        "id": "LZa3E6JUxEFc"
      },
      "source": [
        "### Esercizio 1: Esplorazione DataFrame\n",
        "\n",
        "- **(1a)** Quanti sono i voti dati?\n",
        "- **(1b)** Quanti sono gli utenti distinti nei dati?\n",
        "- **(1c)** Quanti sono gli oggetti distinti?\n",
        "- **(1d)** Qual'è la media di tutti i voti?\n",
        "- **(1e)** Qual è il numero minimo di voti dato da un utente?\n",
        "- **(1f)** Qual è l'oggetto con più voti?\n",
        "- **(1g)** Quali sono i 10 oggetti col voto medio maggiore?\n",
        "  - estrarre una serie con i nomi come etichette e i voti medi come valori"
      ]
    },
    {
      "cell_type": "code",
      "source": [
        "#1a\n",
        "amazon_train.shape[0]"
      ],
      "metadata": {
        "id": "JLMnzf2vzBcE",
        "outputId": "b95ca4e4-ecb1-4794-8d57-d9f9580272c3",
        "colab": {
          "base_uri": "https://localhost:8080/"
        }
      },
      "execution_count": 10,
      "outputs": [
        {
          "output_type": "execute_result",
          "data": {
            "text/plain": [
              "9683"
            ]
          },
          "metadata": {},
          "execution_count": 10
        }
      ]
    },
    {
      "cell_type": "code",
      "source": [
        "#1b\n",
        "amazon_train[\"user\"].nunique()"
      ],
      "metadata": {
        "id": "er-wvyUUzU1J",
        "outputId": "3ff0bb32-7e04-45af-b02e-195cbef27ae2",
        "colab": {
          "base_uri": "https://localhost:8080/"
        }
      },
      "execution_count": 12,
      "outputs": [
        {
          "output_type": "execute_result",
          "data": {
            "text/plain": [
              "178"
            ]
          },
          "metadata": {},
          "execution_count": 12
        }
      ]
    },
    {
      "cell_type": "code",
      "source": [
        "#1c\n",
        "amazon_train[\"item\"].nunique()"
      ],
      "metadata": {
        "id": "aJ624ZdLzke6",
        "outputId": "89fc8f42-be48-404d-ddb5-8bd8b7fd02eb",
        "colab": {
          "base_uri": "https://localhost:8080/"
        }
      },
      "execution_count": 13,
      "outputs": [
        {
          "output_type": "execute_result",
          "data": {
            "text/plain": [
              "3384"
            ]
          },
          "metadata": {},
          "execution_count": 13
        }
      ]
    },
    {
      "cell_type": "code",
      "source": [
        "#1d\n",
        "amazon_train[\"rating\"].mean()"
      ],
      "metadata": {
        "id": "xfS3v5v10BZX",
        "outputId": "d590299c-02b8-45ff-95a5-781fb9db72cc",
        "colab": {
          "base_uri": "https://localhost:8080/"
        }
      },
      "execution_count": 14,
      "outputs": [
        {
          "output_type": "execute_result",
          "data": {
            "text/plain": [
              "np.float64(3.931219663327481)"
            ]
          },
          "metadata": {},
          "execution_count": 14
        }
      ]
    },
    {
      "cell_type": "code",
      "source": [
        "#1e\n",
        "amazon_train[\"user\"].value_counts().min()"
      ],
      "metadata": {
        "id": "03GsTwOd0O0f",
        "outputId": "cab70adb-cf1d-4b41-a7fb-c15e1b39f213",
        "colab": {
          "base_uri": "https://localhost:8080/"
        }
      },
      "execution_count": 17,
      "outputs": [
        {
          "output_type": "execute_result",
          "data": {
            "text/plain": [
              "30"
            ]
          },
          "metadata": {},
          "execution_count": 17
        }
      ]
    },
    {
      "cell_type": "code",
      "source": [
        "#1f\n",
        "amazon_train[\"item\"].value_counts().idxmax()"
      ],
      "metadata": {
        "id": "sX_g6-o80o7N",
        "outputId": "92333d15-febf-4954-d07b-bbdca743a5a7",
        "colab": {
          "base_uri": "https://localhost:8080/",
          "height": 35
        }
      },
      "execution_count": 18,
      "outputs": [
        {
          "output_type": "execute_result",
          "data": {
            "text/plain": [
              "'[57372] The Sixth Sense [VHS]'"
            ],
            "application/vnd.google.colaboratory.intrinsic+json": {
              "type": "string"
            }
          },
          "metadata": {},
          "execution_count": 18
        }
      ]
    },
    {
      "cell_type": "code",
      "source": [
        "#1g\n",
        "amazon_train.groupby(\"item\")[\"rating\"].mean().sort_values(ascending=False).head(10)"
      ],
      "metadata": {
        "id": "sHTAjVQV06nE",
        "outputId": "72d7a6a4-eca9-408c-e380-fe84309b1786",
        "colab": {
          "base_uri": "https://localhost:8080/",
          "height": 429
        }
      },
      "execution_count": 25,
      "outputs": [
        {
          "output_type": "execute_result",
          "data": {
            "text/plain": [
              "item\n",
              "[100066] Foul Play [VHS]                               5.0\n",
              "[99968] The Chalk Garden [VHS]                         5.0\n",
              "[100004] High School Confidential [VHS]                5.0\n",
              "[43917] To Have &amp; Have Not [VHS]                   5.0\n",
              "[43918] Roberta [VHS]                                  5.0\n",
              "[43919] The Big Sleep (Theatrical Version) [VHS]       5.0\n",
              "[43948] Calamity Jane [VHS]                            5.0\n",
              "[43949] Meet Me in St Louis [VHS]                      5.0\n",
              "[43952] Gigi [VHS]                                     5.0\n",
              "[43855] Caddyshack - 19th Anniversary Edition [VHS]    5.0\n",
              "Name: rating, dtype: float64"
            ],
            "text/html": [
              "<div>\n",
              "<style scoped>\n",
              "    .dataframe tbody tr th:only-of-type {\n",
              "        vertical-align: middle;\n",
              "    }\n",
              "\n",
              "    .dataframe tbody tr th {\n",
              "        vertical-align: top;\n",
              "    }\n",
              "\n",
              "    .dataframe thead th {\n",
              "        text-align: right;\n",
              "    }\n",
              "</style>\n",
              "<table border=\"1\" class=\"dataframe\">\n",
              "  <thead>\n",
              "    <tr style=\"text-align: right;\">\n",
              "      <th></th>\n",
              "      <th>rating</th>\n",
              "    </tr>\n",
              "    <tr>\n",
              "      <th>item</th>\n",
              "      <th></th>\n",
              "    </tr>\n",
              "  </thead>\n",
              "  <tbody>\n",
              "    <tr>\n",
              "      <th>[100066] Foul Play [VHS]</th>\n",
              "      <td>5.0</td>\n",
              "    </tr>\n",
              "    <tr>\n",
              "      <th>[99968] The Chalk Garden [VHS]</th>\n",
              "      <td>5.0</td>\n",
              "    </tr>\n",
              "    <tr>\n",
              "      <th>[100004] High School Confidential [VHS]</th>\n",
              "      <td>5.0</td>\n",
              "    </tr>\n",
              "    <tr>\n",
              "      <th>[43917] To Have &amp;amp; Have Not [VHS]</th>\n",
              "      <td>5.0</td>\n",
              "    </tr>\n",
              "    <tr>\n",
              "      <th>[43918] Roberta [VHS]</th>\n",
              "      <td>5.0</td>\n",
              "    </tr>\n",
              "    <tr>\n",
              "      <th>[43919] The Big Sleep (Theatrical Version) [VHS]</th>\n",
              "      <td>5.0</td>\n",
              "    </tr>\n",
              "    <tr>\n",
              "      <th>[43948] Calamity Jane [VHS]</th>\n",
              "      <td>5.0</td>\n",
              "    </tr>\n",
              "    <tr>\n",
              "      <th>[43949] Meet Me in St Louis [VHS]</th>\n",
              "      <td>5.0</td>\n",
              "    </tr>\n",
              "    <tr>\n",
              "      <th>[43952] Gigi [VHS]</th>\n",
              "      <td>5.0</td>\n",
              "    </tr>\n",
              "    <tr>\n",
              "      <th>[43855] Caddyshack - 19th Anniversary Edition [VHS]</th>\n",
              "      <td>5.0</td>\n",
              "    </tr>\n",
              "  </tbody>\n",
              "</table>\n",
              "</div><br><label><b>dtype:</b> float64</label>"
            ]
          },
          "metadata": {},
          "execution_count": 25
        }
      ]
    },
    {
      "cell_type": "markdown",
      "metadata": {
        "id": "lV02nXpfxEFc"
      },
      "source": [
        "## Estrazione matrice voti\n",
        "\n",
        "Per lavorare agevolmente con i dati, rappresentiamoli come matrice dove\n",
        "\n",
        "- ogni **riga** corrisponde ad un **utente** $u$\n",
        "- ogni **colonna** corrisponde ad un **oggetto** $i$\n",
        "- ogni **cella** contiene il **voto** dato da $u$ a $i$, che può essere mancate (`NaN`)\n",
        "\n",
        "Possiamo ottenere un DataFrame in questa forma applicando il metodo `pivot_table`"
      ]
    },
    {
      "cell_type": "code",
      "execution_count": 26,
      "metadata": {
        "id": "ZaWlVUclxEFc"
      },
      "outputs": [],
      "source": [
        "train_ratings = amazon_train.pivot_table(values=\"rating\", index=\"user\", columns=\"item\")"
      ]
    },
    {
      "cell_type": "code",
      "execution_count": 27,
      "metadata": {
        "id": "1-h_W5IOxEFc",
        "outputId": "afd3eddf-7223-4015-92c2-ededa7e36376",
        "colab": {
          "base_uri": "https://localhost:8080/",
          "height": 238
        }
      },
      "outputs": [
        {
          "output_type": "execute_result",
          "data": {
            "text/plain": [
              "item                                      [100004] High School Confidential [VHS]  \\\n",
              "user                                                                                \n",
              "[1001561] D. Wetzel                                                           NaN   \n",
              "[1001958] Neural Clone \"zarran67\"                                             NaN   \n",
              "[1003282] CHI-TOWN                                                            NaN   \n",
              "[1007279] James L.                                                            NaN   \n",
              "[1012166] Bertin Ramirez \"justareviewer\"                                      NaN   \n",
              "\n",
              "item                                      [100019] Julius Caesar [VHS]  \\\n",
              "user                                                                     \n",
              "[1001561] D. Wetzel                                                NaN   \n",
              "[1001958] Neural Clone \"zarran67\"                                  NaN   \n",
              "[1003282] CHI-TOWN                                                 NaN   \n",
              "[1007279] James L.                                                 NaN   \n",
              "[1012166] Bertin Ramirez \"justareviewer\"                           NaN   \n",
              "\n",
              "item                                      [100027] Love Happy [VHS]  \\\n",
              "user                                                                  \n",
              "[1001561] D. Wetzel                                             NaN   \n",
              "[1001958] Neural Clone \"zarran67\"                               NaN   \n",
              "[1003282] CHI-TOWN                                              NaN   \n",
              "[1007279] James L.                                              NaN   \n",
              "[1012166] Bertin Ramirez \"justareviewer\"                        NaN   \n",
              "\n",
              "item                                      [100028] Dark Mirror [VHS]  \\\n",
              "user                                                                   \n",
              "[1001561] D. Wetzel                                              NaN   \n",
              "[1001958] Neural Clone \"zarran67\"                                NaN   \n",
              "[1003282] CHI-TOWN                                               NaN   \n",
              "[1007279] James L.                                               4.0   \n",
              "[1012166] Bertin Ramirez \"justareviewer\"                         NaN   \n",
              "\n",
              "item                                      [100066] Foul Play [VHS]  \n",
              "user                                                                \n",
              "[1001561] D. Wetzel                                            NaN  \n",
              "[1001958] Neural Clone \"zarran67\"                              NaN  \n",
              "[1003282] CHI-TOWN                                             NaN  \n",
              "[1007279] James L.                                             NaN  \n",
              "[1012166] Bertin Ramirez \"justareviewer\"                       NaN  "
            ],
            "text/html": [
              "\n",
              "  <div id=\"df-4eb66738-7fd3-4d78-839a-996ae95c059b\" class=\"colab-df-container\">\n",
              "    <div>\n",
              "<style scoped>\n",
              "    .dataframe tbody tr th:only-of-type {\n",
              "        vertical-align: middle;\n",
              "    }\n",
              "\n",
              "    .dataframe tbody tr th {\n",
              "        vertical-align: top;\n",
              "    }\n",
              "\n",
              "    .dataframe thead th {\n",
              "        text-align: right;\n",
              "    }\n",
              "</style>\n",
              "<table border=\"1\" class=\"dataframe\">\n",
              "  <thead>\n",
              "    <tr style=\"text-align: right;\">\n",
              "      <th>item</th>\n",
              "      <th>[100004] High School Confidential [VHS]</th>\n",
              "      <th>[100019] Julius Caesar [VHS]</th>\n",
              "      <th>[100027] Love Happy [VHS]</th>\n",
              "      <th>[100028] Dark Mirror [VHS]</th>\n",
              "      <th>[100066] Foul Play [VHS]</th>\n",
              "    </tr>\n",
              "    <tr>\n",
              "      <th>user</th>\n",
              "      <th></th>\n",
              "      <th></th>\n",
              "      <th></th>\n",
              "      <th></th>\n",
              "      <th></th>\n",
              "    </tr>\n",
              "  </thead>\n",
              "  <tbody>\n",
              "    <tr>\n",
              "      <th>[1001561] D. Wetzel</th>\n",
              "      <td>NaN</td>\n",
              "      <td>NaN</td>\n",
              "      <td>NaN</td>\n",
              "      <td>NaN</td>\n",
              "      <td>NaN</td>\n",
              "    </tr>\n",
              "    <tr>\n",
              "      <th>[1001958] Neural Clone \"zarran67\"</th>\n",
              "      <td>NaN</td>\n",
              "      <td>NaN</td>\n",
              "      <td>NaN</td>\n",
              "      <td>NaN</td>\n",
              "      <td>NaN</td>\n",
              "    </tr>\n",
              "    <tr>\n",
              "      <th>[1003282] CHI-TOWN</th>\n",
              "      <td>NaN</td>\n",
              "      <td>NaN</td>\n",
              "      <td>NaN</td>\n",
              "      <td>NaN</td>\n",
              "      <td>NaN</td>\n",
              "    </tr>\n",
              "    <tr>\n",
              "      <th>[1007279] James L.</th>\n",
              "      <td>NaN</td>\n",
              "      <td>NaN</td>\n",
              "      <td>NaN</td>\n",
              "      <td>4.0</td>\n",
              "      <td>NaN</td>\n",
              "    </tr>\n",
              "    <tr>\n",
              "      <th>[1012166] Bertin Ramirez \"justareviewer\"</th>\n",
              "      <td>NaN</td>\n",
              "      <td>NaN</td>\n",
              "      <td>NaN</td>\n",
              "      <td>NaN</td>\n",
              "      <td>NaN</td>\n",
              "    </tr>\n",
              "  </tbody>\n",
              "</table>\n",
              "</div>\n",
              "    <div class=\"colab-df-buttons\">\n",
              "\n",
              "  <div class=\"colab-df-container\">\n",
              "    <button class=\"colab-df-convert\" onclick=\"convertToInteractive('df-4eb66738-7fd3-4d78-839a-996ae95c059b')\"\n",
              "            title=\"Convert this dataframe to an interactive table.\"\n",
              "            style=\"display:none;\">\n",
              "\n",
              "  <svg xmlns=\"http://www.w3.org/2000/svg\" height=\"24px\" viewBox=\"0 -960 960 960\">\n",
              "    <path d=\"M120-120v-720h720v720H120Zm60-500h600v-160H180v160Zm220 220h160v-160H400v160Zm0 220h160v-160H400v160ZM180-400h160v-160H180v160Zm440 0h160v-160H620v160ZM180-180h160v-160H180v160Zm440 0h160v-160H620v160Z\"/>\n",
              "  </svg>\n",
              "    </button>\n",
              "\n",
              "  <style>\n",
              "    .colab-df-container {\n",
              "      display:flex;\n",
              "      gap: 12px;\n",
              "    }\n",
              "\n",
              "    .colab-df-convert {\n",
              "      background-color: #E8F0FE;\n",
              "      border: none;\n",
              "      border-radius: 50%;\n",
              "      cursor: pointer;\n",
              "      display: none;\n",
              "      fill: #1967D2;\n",
              "      height: 32px;\n",
              "      padding: 0 0 0 0;\n",
              "      width: 32px;\n",
              "    }\n",
              "\n",
              "    .colab-df-convert:hover {\n",
              "      background-color: #E2EBFA;\n",
              "      box-shadow: 0px 1px 2px rgba(60, 64, 67, 0.3), 0px 1px 3px 1px rgba(60, 64, 67, 0.15);\n",
              "      fill: #174EA6;\n",
              "    }\n",
              "\n",
              "    .colab-df-buttons div {\n",
              "      margin-bottom: 4px;\n",
              "    }\n",
              "\n",
              "    [theme=dark] .colab-df-convert {\n",
              "      background-color: #3B4455;\n",
              "      fill: #D2E3FC;\n",
              "    }\n",
              "\n",
              "    [theme=dark] .colab-df-convert:hover {\n",
              "      background-color: #434B5C;\n",
              "      box-shadow: 0px 1px 3px 1px rgba(0, 0, 0, 0.15);\n",
              "      filter: drop-shadow(0px 1px 2px rgba(0, 0, 0, 0.3));\n",
              "      fill: #FFFFFF;\n",
              "    }\n",
              "  </style>\n",
              "\n",
              "    <script>\n",
              "      const buttonEl =\n",
              "        document.querySelector('#df-4eb66738-7fd3-4d78-839a-996ae95c059b button.colab-df-convert');\n",
              "      buttonEl.style.display =\n",
              "        google.colab.kernel.accessAllowed ? 'block' : 'none';\n",
              "\n",
              "      async function convertToInteractive(key) {\n",
              "        const element = document.querySelector('#df-4eb66738-7fd3-4d78-839a-996ae95c059b');\n",
              "        const dataTable =\n",
              "          await google.colab.kernel.invokeFunction('convertToInteractive',\n",
              "                                                    [key], {});\n",
              "        if (!dataTable) return;\n",
              "\n",
              "        const docLinkHtml = 'Like what you see? Visit the ' +\n",
              "          '<a target=\"_blank\" href=https://colab.research.google.com/notebooks/data_table.ipynb>data table notebook</a>'\n",
              "          + ' to learn more about interactive tables.';\n",
              "        element.innerHTML = '';\n",
              "        dataTable['output_type'] = 'display_data';\n",
              "        await google.colab.output.renderOutput(dataTable, element);\n",
              "        const docLink = document.createElement('div');\n",
              "        docLink.innerHTML = docLinkHtml;\n",
              "        element.appendChild(docLink);\n",
              "      }\n",
              "    </script>\n",
              "  </div>\n",
              "\n",
              "\n",
              "    <div id=\"df-154959c4-e902-4b58-a053-a80374693795\">\n",
              "      <button class=\"colab-df-quickchart\" onclick=\"quickchart('df-154959c4-e902-4b58-a053-a80374693795')\"\n",
              "                title=\"Suggest charts\"\n",
              "                style=\"display:none;\">\n",
              "\n",
              "<svg xmlns=\"http://www.w3.org/2000/svg\" height=\"24px\"viewBox=\"0 0 24 24\"\n",
              "     width=\"24px\">\n",
              "    <g>\n",
              "        <path d=\"M19 3H5c-1.1 0-2 .9-2 2v14c0 1.1.9 2 2 2h14c1.1 0 2-.9 2-2V5c0-1.1-.9-2-2-2zM9 17H7v-7h2v7zm4 0h-2V7h2v10zm4 0h-2v-4h2v4z\"/>\n",
              "    </g>\n",
              "</svg>\n",
              "      </button>\n",
              "\n",
              "<style>\n",
              "  .colab-df-quickchart {\n",
              "      --bg-color: #E8F0FE;\n",
              "      --fill-color: #1967D2;\n",
              "      --hover-bg-color: #E2EBFA;\n",
              "      --hover-fill-color: #174EA6;\n",
              "      --disabled-fill-color: #AAA;\n",
              "      --disabled-bg-color: #DDD;\n",
              "  }\n",
              "\n",
              "  [theme=dark] .colab-df-quickchart {\n",
              "      --bg-color: #3B4455;\n",
              "      --fill-color: #D2E3FC;\n",
              "      --hover-bg-color: #434B5C;\n",
              "      --hover-fill-color: #FFFFFF;\n",
              "      --disabled-bg-color: #3B4455;\n",
              "      --disabled-fill-color: #666;\n",
              "  }\n",
              "\n",
              "  .colab-df-quickchart {\n",
              "    background-color: var(--bg-color);\n",
              "    border: none;\n",
              "    border-radius: 50%;\n",
              "    cursor: pointer;\n",
              "    display: none;\n",
              "    fill: var(--fill-color);\n",
              "    height: 32px;\n",
              "    padding: 0;\n",
              "    width: 32px;\n",
              "  }\n",
              "\n",
              "  .colab-df-quickchart:hover {\n",
              "    background-color: var(--hover-bg-color);\n",
              "    box-shadow: 0 1px 2px rgba(60, 64, 67, 0.3), 0 1px 3px 1px rgba(60, 64, 67, 0.15);\n",
              "    fill: var(--button-hover-fill-color);\n",
              "  }\n",
              "\n",
              "  .colab-df-quickchart-complete:disabled,\n",
              "  .colab-df-quickchart-complete:disabled:hover {\n",
              "    background-color: var(--disabled-bg-color);\n",
              "    fill: var(--disabled-fill-color);\n",
              "    box-shadow: none;\n",
              "  }\n",
              "\n",
              "  .colab-df-spinner {\n",
              "    border: 2px solid var(--fill-color);\n",
              "    border-color: transparent;\n",
              "    border-bottom-color: var(--fill-color);\n",
              "    animation:\n",
              "      spin 1s steps(1) infinite;\n",
              "  }\n",
              "\n",
              "  @keyframes spin {\n",
              "    0% {\n",
              "      border-color: transparent;\n",
              "      border-bottom-color: var(--fill-color);\n",
              "      border-left-color: var(--fill-color);\n",
              "    }\n",
              "    20% {\n",
              "      border-color: transparent;\n",
              "      border-left-color: var(--fill-color);\n",
              "      border-top-color: var(--fill-color);\n",
              "    }\n",
              "    30% {\n",
              "      border-color: transparent;\n",
              "      border-left-color: var(--fill-color);\n",
              "      border-top-color: var(--fill-color);\n",
              "      border-right-color: var(--fill-color);\n",
              "    }\n",
              "    40% {\n",
              "      border-color: transparent;\n",
              "      border-right-color: var(--fill-color);\n",
              "      border-top-color: var(--fill-color);\n",
              "    }\n",
              "    60% {\n",
              "      border-color: transparent;\n",
              "      border-right-color: var(--fill-color);\n",
              "    }\n",
              "    80% {\n",
              "      border-color: transparent;\n",
              "      border-right-color: var(--fill-color);\n",
              "      border-bottom-color: var(--fill-color);\n",
              "    }\n",
              "    90% {\n",
              "      border-color: transparent;\n",
              "      border-bottom-color: var(--fill-color);\n",
              "    }\n",
              "  }\n",
              "</style>\n",
              "\n",
              "      <script>\n",
              "        async function quickchart(key) {\n",
              "          const quickchartButtonEl =\n",
              "            document.querySelector('#' + key + ' button');\n",
              "          quickchartButtonEl.disabled = true;  // To prevent multiple clicks.\n",
              "          quickchartButtonEl.classList.add('colab-df-spinner');\n",
              "          try {\n",
              "            const charts = await google.colab.kernel.invokeFunction(\n",
              "                'suggestCharts', [key], {});\n",
              "          } catch (error) {\n",
              "            console.error('Error during call to suggestCharts:', error);\n",
              "          }\n",
              "          quickchartButtonEl.classList.remove('colab-df-spinner');\n",
              "          quickchartButtonEl.classList.add('colab-df-quickchart-complete');\n",
              "        }\n",
              "        (() => {\n",
              "          let quickchartButtonEl =\n",
              "            document.querySelector('#df-154959c4-e902-4b58-a053-a80374693795 button');\n",
              "          quickchartButtonEl.style.display =\n",
              "            google.colab.kernel.accessAllowed ? 'block' : 'none';\n",
              "        })();\n",
              "      </script>\n",
              "    </div>\n",
              "\n",
              "    </div>\n",
              "  </div>\n"
            ],
            "application/vnd.google.colaboratory.intrinsic+json": {
              "type": "dataframe",
              "summary": "{\n  \"name\": \"train_ratings\",\n  \"rows\": 5,\n  \"fields\": [\n    {\n      \"column\": \"user\",\n      \"properties\": {\n        \"dtype\": \"string\",\n        \"num_unique_values\": 5,\n        \"samples\": [\n          \"[1001958] Neural Clone \\\"zarran67\\\"\",\n          \"[1012166] Bertin Ramirez \\\"justareviewer\\\"\",\n          \"[1003282] CHI-TOWN\"\n        ],\n        \"semantic_type\": \"\",\n        \"description\": \"\"\n      }\n    },\n    {\n      \"column\": \"[100004] High School Confidential [VHS]\",\n      \"properties\": {\n        \"dtype\": \"number\",\n        \"std\": null,\n        \"min\": null,\n        \"max\": null,\n        \"num_unique_values\": 0,\n        \"samples\": [],\n        \"semantic_type\": \"\",\n        \"description\": \"\"\n      }\n    },\n    {\n      \"column\": \"[100019] Julius Caesar [VHS]\",\n      \"properties\": {\n        \"dtype\": \"number\",\n        \"std\": null,\n        \"min\": null,\n        \"max\": null,\n        \"num_unique_values\": 0,\n        \"samples\": [],\n        \"semantic_type\": \"\",\n        \"description\": \"\"\n      }\n    },\n    {\n      \"column\": \"[100027] Love Happy [VHS]\",\n      \"properties\": {\n        \"dtype\": \"number\",\n        \"std\": null,\n        \"min\": null,\n        \"max\": null,\n        \"num_unique_values\": 0,\n        \"samples\": [],\n        \"semantic_type\": \"\",\n        \"description\": \"\"\n      }\n    },\n    {\n      \"column\": \"[100028] Dark Mirror [VHS]\",\n      \"properties\": {\n        \"dtype\": \"number\",\n        \"std\": null,\n        \"min\": 4.0,\n        \"max\": 4.0,\n        \"num_unique_values\": 1,\n        \"samples\": [],\n        \"semantic_type\": \"\",\n        \"description\": \"\"\n      }\n    },\n    {\n      \"column\": \"[100066] Foul Play [VHS]\",\n      \"properties\": {\n        \"dtype\": \"number\",\n        \"std\": null,\n        \"min\": null,\n        \"max\": null,\n        \"num_unique_values\": 0,\n        \"samples\": [],\n        \"semantic_type\": \"\",\n        \"description\": \"\"\n      }\n    }\n  ]\n}"
            }
          },
          "metadata": {},
          "execution_count": 27
        }
      ],
      "source": [
        "train_ratings.iloc[:5, :5]"
      ]
    },
    {
      "cell_type": "markdown",
      "metadata": {
        "id": "QOlCE6V0xEFc"
      },
      "source": [
        "Per i prossimi passaggi, rappresentiamo questo frame in forma di matrice \"semplice\" che chiamiamo **R**, inserendo 0 al posto dei voti mancanti\n",
        "\n",
        "$r_{u,i}$ = voto dato dall'utente u all'oggetto i"
      ]
    },
    {
      "cell_type": "code",
      "execution_count": 28,
      "metadata": {
        "id": "A9DztE77xEFc"
      },
      "outputs": [],
      "source": [
        "R = train_ratings.fillna(0).values"
      ]
    },
    {
      "cell_type": "code",
      "execution_count": 29,
      "metadata": {
        "id": "RpzLTr_qxEFc",
        "outputId": "2dc9e509-fbfe-4cb3-9ce3-4eb2d8a151a7",
        "colab": {
          "base_uri": "https://localhost:8080/"
        }
      },
      "outputs": [
        {
          "output_type": "execute_result",
          "data": {
            "text/plain": [
              "array([[0., 0., 0., 0., 0.],\n",
              "       [0., 0., 0., 0., 0.],\n",
              "       [0., 0., 0., 0., 0.],\n",
              "       [0., 0., 0., 4., 0.]])"
            ]
          },
          "metadata": {},
          "execution_count": 29
        }
      ],
      "source": [
        "R[:4, :5]"
      ]
    },
    {
      "cell_type": "markdown",
      "metadata": {
        "id": "M_va-Td2xEFc"
      },
      "source": [
        "Estraiamo anche una matrice booleana **P** che indichi per quali coppie utente-prodotto esiste un voto\n",
        "\n",
        "$p_{u,i}$ = 1 (`True`) se l'utente u ha dato un voto all'oggetto i, 0 (`False`) altrimenti"
      ]
    },
    {
      "cell_type": "code",
      "execution_count": 30,
      "metadata": {
        "id": "i9DZZhX6xEFc"
      },
      "outputs": [],
      "source": [
        "P = train_ratings.notna().values"
      ]
    },
    {
      "cell_type": "code",
      "execution_count": 31,
      "metadata": {
        "id": "jXU_ufEkxEFc",
        "outputId": "d97bbf8c-2ec1-4aa3-fa7a-4a72f99c5e05",
        "colab": {
          "base_uri": "https://localhost:8080/"
        }
      },
      "outputs": [
        {
          "output_type": "execute_result",
          "data": {
            "text/plain": [
              "array([[False, False, False, False, False],\n",
              "       [False, False, False, False, False],\n",
              "       [False, False, False, False, False],\n",
              "       [False, False, False,  True, False]])"
            ]
          },
          "metadata": {},
          "execution_count": 31
        }
      ],
      "source": [
        "P[:4, :5]"
      ]
    },
    {
      "cell_type": "markdown",
      "metadata": {
        "id": "aTXOZMa7xEFd"
      },
      "source": [
        "### Esercizio 2: Esplorazione matrici\n",
        "\n",
        "Estrarre le stesse informazioni richieste mell'esercizio 1, ma utilizzando le matrici `R` e `P` invece dei frame\n",
        "- **(2a)** Quanti sono i voti dati?\n",
        "- **(2b)** Quanti sono gli utenti distinti nei dati?\n",
        "- **(2c)** Quanti sono gli oggetti distinti?\n",
        "- **(2d)** Qual'è la media di tutti i voti?\n",
        "  - attenzione a non includere i voti mancanti (nulli) nella media\n",
        "- **(2e)** Qual è il numero minimo di voti dato da un utente?\n",
        "- **(2f)** Qual è l'oggetto con più voti\n",
        "- **(2g)** Quali sono i 10 oggetti col voto medio maggiore?"
      ]
    },
    {
      "cell_type": "code",
      "source": [
        "#2a\n",
        "P.sum()"
      ],
      "metadata": {
        "id": "1pwAung76P3V",
        "outputId": "ef4fa241-00b5-408b-caf1-8b9146956c13",
        "colab": {
          "base_uri": "https://localhost:8080/"
        }
      },
      "execution_count": 33,
      "outputs": [
        {
          "output_type": "execute_result",
          "data": {
            "text/plain": [
              "np.int64(9683)"
            ]
          },
          "metadata": {},
          "execution_count": 33
        }
      ]
    },
    {
      "cell_type": "code",
      "source": [
        "#2b\n",
        "P.shape[0]"
      ],
      "metadata": {
        "id": "TcpCo7YG6VMd",
        "outputId": "3263a4af-cf01-4dab-ddaf-5b4e102d93bb",
        "colab": {
          "base_uri": "https://localhost:8080/"
        }
      },
      "execution_count": 34,
      "outputs": [
        {
          "output_type": "execute_result",
          "data": {
            "text/plain": [
              "178"
            ]
          },
          "metadata": {},
          "execution_count": 34
        }
      ]
    },
    {
      "cell_type": "code",
      "source": [
        "#2c\n",
        "R.shape[1]"
      ],
      "metadata": {
        "id": "a8k7_tCZ6Ys8",
        "outputId": "a716f8e7-97fb-4a7b-e8f1-2ce6d6641260",
        "colab": {
          "base_uri": "https://localhost:8080/"
        }
      },
      "execution_count": 35,
      "outputs": [
        {
          "output_type": "execute_result",
          "data": {
            "text/plain": [
              "3384"
            ]
          },
          "metadata": {},
          "execution_count": 35
        }
      ]
    },
    {
      "cell_type": "code",
      "source": [
        "#2d\n",
        "R[P].mean()\n",
        "#R.mean(where=P)"
      ],
      "metadata": {
        "id": "5KbByeUi6cME",
        "outputId": "04d038c5-ce2f-4085-96d5-9c3c8e2c40c0",
        "colab": {
          "base_uri": "https://localhost:8080/"
        }
      },
      "execution_count": 37,
      "outputs": [
        {
          "output_type": "execute_result",
          "data": {
            "text/plain": [
              "np.float64(3.931219663327481)"
            ]
          },
          "metadata": {},
          "execution_count": 37
        }
      ]
    },
    {
      "cell_type": "code",
      "source": [
        "#2e\n",
        "P.sum(axis=1).min()"
      ],
      "metadata": {
        "id": "ObtMtFus6uRr",
        "outputId": "e50fc149-3afa-4d0d-fec2-fd6950f7cb90",
        "colab": {
          "base_uri": "https://localhost:8080/"
        }
      },
      "execution_count": 38,
      "outputs": [
        {
          "output_type": "execute_result",
          "data": {
            "text/plain": [
              "np.int64(30)"
            ]
          },
          "metadata": {},
          "execution_count": 38
        }
      ]
    },
    {
      "cell_type": "code",
      "source": [
        "#2f\n",
        "train_ratings.columns[P.sum(0).argmax()]"
      ],
      "metadata": {
        "id": "VgVJCMNE7Sw7",
        "outputId": "8121fa5b-c9f3-4938-c1e1-7f22021d29fa",
        "colab": {
          "base_uri": "https://localhost:8080/",
          "height": 35
        }
      },
      "execution_count": 45,
      "outputs": [
        {
          "output_type": "execute_result",
          "data": {
            "text/plain": [
              "'[57372] The Sixth Sense [VHS]'"
            ],
            "application/vnd.google.colaboratory.intrinsic+json": {
              "type": "string"
            }
          },
          "metadata": {},
          "execution_count": 45
        }
      ]
    },
    {
      "cell_type": "code",
      "source": [
        "train_ratings.columns[(-R.mean(0, where=P)).argsort()[:10]]"
      ],
      "metadata": {
        "id": "J3md91fm74DK",
        "outputId": "b9091828-d38d-41a2-e7a9-50f7ef4eba6f",
        "colab": {
          "base_uri": "https://localhost:8080/"
        }
      },
      "execution_count": 57,
      "outputs": [
        {
          "output_type": "execute_result",
          "data": {
            "text/plain": [
              "Index(['[6053] The Godfather [VHS]',\n",
              "       '[42916] Close Encounters of the Third Kind (Widescreen Edition) [VHS]',\n",
              "       '[42911] Das Boot - The Director's Cut', '[42879] The Planets [VHS]',\n",
              "       '[42873] Avengers '66: Vol. 1', '[42867] Emma',\n",
              "       '[42863] The Crossing [VHS]', '[4278] The Devil Rides Out',\n",
              "       '[60541] Cast a Giant Shadow [VHS]',\n",
              "       '[60241] The Road to El Dorado [VHS]'],\n",
              "      dtype='object', name='item')"
            ]
          },
          "metadata": {},
          "execution_count": 57
        }
      ]
    },
    {
      "cell_type": "markdown",
      "metadata": {
        "id": "Ve9UDcCwxEFd"
      },
      "source": [
        "Per i punti 2f e 2g recuperare i nomi degli oggetti dai nomi delle colonne di `train_ratings`\n",
        "\n",
        "Per i punti 2d e 2g è utile usare il parametro `where` dei metodi di aggregazione (`sum`, `mean`, ...), che filtra i dati su cui eseguire l'operazione"
      ]
    },
    {
      "cell_type": "code",
      "execution_count": 32,
      "metadata": {
        "id": "ow5IiQu9xEFd",
        "outputId": "5383b9b6-0347-45ef-84d3-301e0d937c8e",
        "colab": {
          "base_uri": "https://localhost:8080/"
        }
      },
      "outputs": [
        {
          "output_type": "execute_result",
          "data": {
            "text/plain": [
              "np.int64(5)"
            ]
          },
          "metadata": {},
          "execution_count": 32
        }
      ],
      "source": [
        "# esempio:\n",
        "np.array([1, 2, 3, 4]).sum(where=[False, True, True, False])\n",
        "# sono selezionati solo i valori 2 e 3"
      ]
    },
    {
      "cell_type": "markdown",
      "metadata": {
        "id": "WKoNwD2GxEFd"
      },
      "source": [
        "## User-based collaborative filtering\n",
        "\n",
        "Nella recommendation _user-based_, il voto $\\hat{r}_{u,i}$ previsto per un oggetto $i$ da parte di un utente $u$ è determinato in base ai **voti dati da altri utenti** ad $i$, pesati in base alla loro _similarità_ con $u$\n",
        "\n",
        "La similarità $\\text{sim}(u,v)$ tra due utenti $u$ e $v$ è misurata dai **voti dati ad oggetti recensiti da entrambi**\n",
        "\n",
        "Iniziamo definendo come è calcolata la misura di similarità $\\text{sim}$"
      ]
    },
    {
      "cell_type": "markdown",
      "metadata": {
        "id": "x4PJWRIGxEFd"
      },
      "source": [
        "## Similarità coseno\n",
        "\n",
        "La _similarità coseno_ è una misura della similarità tra due vettori data dal coseno dell'angolo formato tra i due vettori: per questo tiene conto del loro orientamento ma non della lunghezza\n",
        "\n",
        "La similarità coseno è pari al prodotto scalare dei vettori suddiviso per il prodotto delle loro norme euclidee, è quindi compresa tra 0 e 1 per vettori con valori non negativi\n",
        "\n",
        "$$ \\text{sim}(\\mathbf{a},\\mathbf{b}) = \\frac{\\sum_{i=1}^n a_i\\cdot b_i}{\\sqrt{\\sum_{i=1}^n a_i^2}\\cdot\\sqrt{\\sum_{i=1}^n b_i^2}} $$\n",
        "\n",
        "Nel collaborative filtering, possiamo usare la similarità coseno per **comparare i voti dati da due utenti**, considerando solo l'insieme di oggetti $C_{u,v}$ votati da entrambi\n",
        "\n",
        "$$ \\text{sim}(u,v) = \\frac{\\sum_{i\\in C_{u,v}} r_{u,i}\\cdot r_{v,i}}{\\sqrt{\\sum_{i\\in C_{u,v}} r_{u,i}^2}\\cdot\\sqrt{\\sum_{i\\in C_{u,v}} r_{v,i}^2}}$$"
      ]
    },
    {
      "cell_type": "markdown",
      "metadata": {
        "id": "G_CtCroaxEFd"
      },
      "source": [
        "Costruiamo una matrice con le **similarità coseno tra tutte le coppie di utenti** usando opportune operazioni tra matrici\n",
        "\n",
        "Il numeratore della formula è una somma di prodotti, rappresentabile quindi come prodotto scalare\n",
        "\n",
        "- i termini da moltiplicare sono nelle righe della matrice **R** relative agli utenti _u_ e _v_\n",
        "- vanno contati solo gli oggetti votati da entrambi, ma essendo i voti mancanti 0 gli altri oggetti sono esclusi implicitamente\n",
        "\n",
        "Una matrice di prodotti scalari si può ottenere tramite un prodotto canonico tra matrici\n",
        "\n",
        "Dobbiamo ottenere una matrice in cui alla posizione _u, v_ troviamo il prodotto scalare tra `R[u, :]` e `R[v, :]`: possiamo ottenerla dal prodotto tra `R` e la sua trasposta  \n",
        "\n",
        "`(R @ R.T)[u, v] == R[u, :] @ R.T[:, v] == R[u, :] @ R[v, :]`"
      ]
    },
    {
      "cell_type": "code",
      "execution_count": 58,
      "metadata": {
        "id": "puhiKj3nxEFd"
      },
      "outputs": [],
      "source": [
        "cosim_numer = R @ R.T"
      ]
    },
    {
      "cell_type": "markdown",
      "metadata": {
        "id": "k12mWWhRxEFd"
      },
      "source": [
        "Per il denominatore dobbiamo calcolare, per ciascuna coppia di utenti _u_ e _v_, la norma del vettore dei voti dati da _u_ sui soli oggetti acquistati anche da _v_\n",
        "\n",
        "Iniziamo creando un array booleano 3d $\\mathbf{P}^\\text{AND}$ che, per qualsiasi coppia di utenti _u_, _v_ e oggetto _i_, indichi se sia _u_ che _v_ hanno acquistato _i_\n",
        "$$ p^\\text{AND}_{u,v,i} = p_{u,i} \\wedge p_{v,i} $$\n",
        "\n",
        "Per farlo, eseguiamo un AND tra diverse viste della matrice **P** con assi aggiunti e sfruttiamo le regole di broadcasting di NumPy"
      ]
    },
    {
      "cell_type": "code",
      "execution_count": 59,
      "metadata": {
        "id": "ihRTTUdGxEFd"
      },
      "outputs": [],
      "source": [
        "# M = numero utenti, N = numero oggetti\n",
        "# P ha forma M x N\n",
        "\n",
        "#          M x 1 x N       1 x M x N\n",
        "P_and = P[:, None, :] & P[None, :, :]\n",
        "\n",
        "# il risultato ha forma M x M x N\n",
        "# P_and[u, v, i] == P[u, i] & P[v, i]"
      ]
    },
    {
      "cell_type": "markdown",
      "metadata": {
        "id": "RwpZ6RzLxEFd"
      },
      "source": [
        "Creiamo ora un array 3d $\\mathbf{R}^\\text{COM}$ che riporti i voti degli utenti solo per oggetti in comune con altri\n",
        "\n",
        "- $r^\\text{COM}_{u,v,i} = r_{u,i}$ (voto di _u_ a _i_) se sia _u_ che _v_ hanno dato un voto a _i_\n",
        "- $r^\\text{COM}_{u,v,i} = 0$ altrimenti\n",
        "\n",
        "Ovvero:\n",
        "\n",
        "$$ r^\\text{COM}_{u,v,i} = p^\\text{AND}_{u,v,i} \\cdot r_{u,i} $$"
      ]
    },
    {
      "cell_type": "code",
      "execution_count": 61,
      "metadata": {
        "id": "0viEd8afxEFd"
      },
      "outputs": [],
      "source": [
        "#     M x M x N    M x 1 x N\n",
        "R_com = P_and * R[:, None, :]\n",
        "\n",
        "# risultato: M x M x N"
      ]
    },
    {
      "cell_type": "markdown",
      "metadata": {
        "id": "5Ob2L-UqxEFd"
      },
      "source": [
        "Da quì possiamo ottenere una matrice 2d che per ogni coppia _u_, _v_ di utenti contiene il valore delle norme nel denominatore della formula della sim. coseno, sfruttando il fatto che nel calcolo della norma le coppie di elementi con almeno uno 0 sono implicitamente ignorate\n",
        "\n",
        "$$ \\forall u,v: \\sqrt{\\sum_{i\\in C_{u,v}} r_{u,i}^2} = \\sqrt{\\sum_i (r^\\text{COM}_{u,v,i})^2} $$\n",
        "\n",
        "Possiamo usare la funzione `norm` di NumPy per calcolare le norme lungo l'asse specificato (il terzo, quello indicizzato con $i$ nella formula sopra)"
      ]
    },
    {
      "cell_type": "code",
      "execution_count": 62,
      "metadata": {
        "id": "w3YAV-tSxEFd"
      },
      "outputs": [],
      "source": [
        "R_com_norms = np.linalg.norm(R_com, axis=2)"
      ]
    },
    {
      "cell_type": "markdown",
      "metadata": {
        "id": "yd5tk36mxEFd"
      },
      "source": [
        "Utilizziamo la matrice `R_com_norms` sopra per estrarre una matrice `cosim_denum` col denominatore completo della formula"
      ]
    },
    {
      "cell_type": "code",
      "execution_count": 63,
      "metadata": {
        "id": "-s9u8KZzxEFd"
      },
      "outputs": [],
      "source": [
        "cosim_denum = R_com_norms * R_com_norms.T"
      ]
    },
    {
      "cell_type": "markdown",
      "metadata": {
        "id": "4lUYOZMdxEFd"
      },
      "source": [
        "Estraiamo infine la matrice `cosim` con tutte le similarità per ogni coppia di utenti"
      ]
    },
    {
      "cell_type": "code",
      "execution_count": 64,
      "metadata": {
        "id": "Kt279dRoxEFd",
        "outputId": "5475030d-a7b8-4bce-e966-3c4399e564dd",
        "colab": {
          "base_uri": "https://localhost:8080/"
        }
      },
      "outputs": [
        {
          "output_type": "stream",
          "name": "stderr",
          "text": [
            "<ipython-input-64-a06e1fe2b8d7>:1: RuntimeWarning: invalid value encountered in divide\n",
            "  cosim = cosim_numer / cosim_denum\n"
          ]
        }
      ],
      "source": [
        "cosim = cosim_numer / cosim_denum"
      ]
    },
    {
      "cell_type": "markdown",
      "metadata": {
        "id": "YKdYrh6yxEFe"
      },
      "source": [
        "Nel calcolo di `cosim` riceviamo un warning per via di divisioni per zero, in corrispondenza delle quali troviamo valori mancanti (`nan`)"
      ]
    },
    {
      "cell_type": "code",
      "execution_count": 65,
      "metadata": {
        "id": "xjaaBSlyxEFe",
        "outputId": "527038df-64b1-4eee-fc32-3a4ff63fcfeb",
        "colab": {
          "base_uri": "https://localhost:8080/"
        }
      },
      "outputs": [
        {
          "output_type": "execute_result",
          "data": {
            "text/plain": [
              "array([[1.        , 0.9924812 , 0.94372216,        nan],\n",
              "       [0.9924812 , 1.        , 0.97580525,        nan],\n",
              "       [0.94372216, 0.97580525, 1.        ,        nan],\n",
              "       [       nan,        nan,        nan, 1.        ]])"
            ]
          },
          "metadata": {},
          "execution_count": 65
        }
      ],
      "source": [
        "cosim[:4, :4]"
      ]
    },
    {
      "cell_type": "markdown",
      "metadata": {
        "id": "NE2OcLIRxEFe"
      },
      "source": [
        "Questi corrispondono a coppie di utenti senza acquisti in comune\n",
        "\n",
        "Usiamo la funzione `isnan` per localizzare i valori mancanti e li impostiamo a 0 (similarità nulla)"
      ]
    },
    {
      "cell_type": "code",
      "execution_count": 66,
      "metadata": {
        "id": "VsyJdoP8xEFe"
      },
      "outputs": [],
      "source": [
        "cosim[np.isnan(cosim)] = 0"
      ]
    },
    {
      "cell_type": "code",
      "execution_count": 67,
      "metadata": {
        "id": "AfHnzOD7xEFe",
        "outputId": "893edbfb-d63f-4ae8-fdd9-1729dc363bb6",
        "colab": {
          "base_uri": "https://localhost:8080/"
        }
      },
      "outputs": [
        {
          "output_type": "execute_result",
          "data": {
            "text/plain": [
              "array([[1.        , 0.9924812 , 0.94372216, 0.        ],\n",
              "       [0.9924812 , 1.        , 0.97580525, 0.        ],\n",
              "       [0.94372216, 0.97580525, 1.        , 0.        ],\n",
              "       [0.        , 0.        , 0.        , 1.        ]])"
            ]
          },
          "metadata": {},
          "execution_count": 67
        }
      ],
      "source": [
        "cosim[:4, :4]"
      ]
    },
    {
      "cell_type": "markdown",
      "metadata": {
        "id": "1WiTDhg_xEFe"
      },
      "source": [
        "## Predizione dei voti mancanti\n",
        "\n",
        "Vediamo ora come predire il voto $\\hat{r}_{u,i}$ che un utente $u$ darebbe ad un oggetto $i$ che non conosce\n",
        "\n",
        "Come prima soluzione, prendiamo la **media dei voti** dati ad $i$ da qualsiasi altro utente $v$ che l'abbia valutato, **pesata in base alla similarità** tra $u$ e $v$\n",
        "\n",
        "$$ \\hat{r}_{u,i} = \\frac{\\sum_{v:P_{v,i}=1} \\text{sim}(u, v) \\cdot r_{v,i}}{\\sum_{v:P_{v,i}=1} \\text{sim}(u, v)} $$"
      ]
    },
    {
      "cell_type": "markdown",
      "metadata": {
        "id": "fIicJYP1xEFe"
      },
      "source": [
        "### Esercizio 3: Calcolo predizioni\n",
        "\n",
        "Definire la funzione `predict_from_all` in modo che, dati gli indici di un utente `u` e un oggetto `i`, restituisca il voto predetto\n",
        "\n",
        "- `voters` è una lista di indici degli utenti che hanno già acquistato l'oggetto, da usare per selezionare righe e colonne nel punto successivo\n",
        "  - il metodo `nonzero` è usato sul vettore booleano `P[:, i]` per restituire gli indici corrispondenti ai valori `True`\n",
        "  - si potrebbe impostare direttamente `voters = P[:, i]`, ma la lista ci tornerà comoda per creare una variante di questa funzione\n",
        "- impostare `predicted_vote` al voto predetto secondo la formula sopra\n",
        "- restituire tale voto se non è un valore NaN (verificare con `np.isnan`), altrimenti restituire come ripiego la media di tutti i voti noti"
      ]
    },
    {
      "cell_type": "code",
      "execution_count": 82,
      "metadata": {
        "id": "neYWvmPMxEFe"
      },
      "outputs": [],
      "source": [
        "def predict_from_all(u, i):\n",
        "    voters = list(P[:, i].nonzero()[0])\n",
        "    predicted_vote = (cosim[u, voters] @ R[voters, i]) / cosim[u, voters].sum()\n",
        "    return predicted_vote if not np.isnan(predicted_vote) else R.mean(where=P)"
      ]
    },
    {
      "cell_type": "markdown",
      "metadata": {
        "id": "2t1ZKZb9xEFe"
      },
      "source": [
        "## Validazione delle predizioni\n",
        "\n",
        "Una volta generati dei voti predetti, dobbiamo verificarne la bontà confrontandoli con voti veri\n",
        "\n",
        "Analogamente ai problemi di regressione, ci serve un _validation set_ di voti per la verifica disgiunto dal _training set_ su cui abbiamo costruito le predizioni\n",
        "\n",
        "Carichiamo i voti contenuti nel file `amazon_val.csv` da usare come validation set"
      ]
    },
    {
      "cell_type": "code",
      "execution_count": 83,
      "metadata": {
        "id": "fO5ZifL8xEFe"
      },
      "outputs": [],
      "source": [
        "amazon_val = pd.read_csv(\n",
        "    \"amazon_val.csv\",\n",
        "    header=None,\n",
        "    names=[\"user\", \"item\", \"rating\"],\n",
        ")"
      ]
    },
    {
      "cell_type": "markdown",
      "metadata": {
        "id": "kWU1jCGMxEFe"
      },
      "source": [
        "Come sopra, estraiamo i voti in forma di frame con una riga per ogni utente e una colonna per ogni oggetto"
      ]
    },
    {
      "cell_type": "code",
      "execution_count": 84,
      "metadata": {
        "id": "AiuFF0CDxEFe"
      },
      "outputs": [],
      "source": [
        "val_ratings = amazon_val.set_index([\"user\", \"item\"])[\"rating\"].unstack(\"item\")"
      ]
    },
    {
      "cell_type": "code",
      "execution_count": 85,
      "metadata": {
        "id": "U-XHG1vZxEFe",
        "outputId": "49dd61ed-6a05-402d-ae1b-1af0177b68f7",
        "colab": {
          "base_uri": "https://localhost:8080/",
          "height": 206
        }
      },
      "outputs": [
        {
          "output_type": "execute_result",
          "data": {
            "text/plain": [
              "item                                      [100004] High School Confidential [VHS]  \\\n",
              "user                                                                                \n",
              "[1001561] D. Wetzel                                                           NaN   \n",
              "[1003282] CHI-TOWN                                                            NaN   \n",
              "[1007279] James L.                                                            NaN   \n",
              "[1012166] Bertin Ramirez \"justareviewer\"                                      NaN   \n",
              "\n",
              "item                                      [100019] Julius Caesar [VHS]  \\\n",
              "user                                                                     \n",
              "[1001561] D. Wetzel                                                NaN   \n",
              "[1003282] CHI-TOWN                                                 NaN   \n",
              "[1007279] James L.                                                 NaN   \n",
              "[1012166] Bertin Ramirez \"justareviewer\"                           NaN   \n",
              "\n",
              "item                                      [100027] Love Happy [VHS]  \\\n",
              "user                                                                  \n",
              "[1001561] D. Wetzel                                             NaN   \n",
              "[1003282] CHI-TOWN                                              NaN   \n",
              "[1007279] James L.                                              NaN   \n",
              "[1012166] Bertin Ramirez \"justareviewer\"                        NaN   \n",
              "\n",
              "item                                      [100066] Foul Play [VHS]  \n",
              "user                                                                \n",
              "[1001561] D. Wetzel                                            NaN  \n",
              "[1003282] CHI-TOWN                                             NaN  \n",
              "[1007279] James L.                                             NaN  \n",
              "[1012166] Bertin Ramirez \"justareviewer\"                       NaN  "
            ],
            "text/html": [
              "\n",
              "  <div id=\"df-d7afddcf-da47-497e-ba04-e162ae38708b\" class=\"colab-df-container\">\n",
              "    <div>\n",
              "<style scoped>\n",
              "    .dataframe tbody tr th:only-of-type {\n",
              "        vertical-align: middle;\n",
              "    }\n",
              "\n",
              "    .dataframe tbody tr th {\n",
              "        vertical-align: top;\n",
              "    }\n",
              "\n",
              "    .dataframe thead th {\n",
              "        text-align: right;\n",
              "    }\n",
              "</style>\n",
              "<table border=\"1\" class=\"dataframe\">\n",
              "  <thead>\n",
              "    <tr style=\"text-align: right;\">\n",
              "      <th>item</th>\n",
              "      <th>[100004] High School Confidential [VHS]</th>\n",
              "      <th>[100019] Julius Caesar [VHS]</th>\n",
              "      <th>[100027] Love Happy [VHS]</th>\n",
              "      <th>[100066] Foul Play [VHS]</th>\n",
              "    </tr>\n",
              "    <tr>\n",
              "      <th>user</th>\n",
              "      <th></th>\n",
              "      <th></th>\n",
              "      <th></th>\n",
              "      <th></th>\n",
              "    </tr>\n",
              "  </thead>\n",
              "  <tbody>\n",
              "    <tr>\n",
              "      <th>[1001561] D. Wetzel</th>\n",
              "      <td>NaN</td>\n",
              "      <td>NaN</td>\n",
              "      <td>NaN</td>\n",
              "      <td>NaN</td>\n",
              "    </tr>\n",
              "    <tr>\n",
              "      <th>[1003282] CHI-TOWN</th>\n",
              "      <td>NaN</td>\n",
              "      <td>NaN</td>\n",
              "      <td>NaN</td>\n",
              "      <td>NaN</td>\n",
              "    </tr>\n",
              "    <tr>\n",
              "      <th>[1007279] James L.</th>\n",
              "      <td>NaN</td>\n",
              "      <td>NaN</td>\n",
              "      <td>NaN</td>\n",
              "      <td>NaN</td>\n",
              "    </tr>\n",
              "    <tr>\n",
              "      <th>[1012166] Bertin Ramirez \"justareviewer\"</th>\n",
              "      <td>NaN</td>\n",
              "      <td>NaN</td>\n",
              "      <td>NaN</td>\n",
              "      <td>NaN</td>\n",
              "    </tr>\n",
              "  </tbody>\n",
              "</table>\n",
              "</div>\n",
              "    <div class=\"colab-df-buttons\">\n",
              "\n",
              "  <div class=\"colab-df-container\">\n",
              "    <button class=\"colab-df-convert\" onclick=\"convertToInteractive('df-d7afddcf-da47-497e-ba04-e162ae38708b')\"\n",
              "            title=\"Convert this dataframe to an interactive table.\"\n",
              "            style=\"display:none;\">\n",
              "\n",
              "  <svg xmlns=\"http://www.w3.org/2000/svg\" height=\"24px\" viewBox=\"0 -960 960 960\">\n",
              "    <path d=\"M120-120v-720h720v720H120Zm60-500h600v-160H180v160Zm220 220h160v-160H400v160Zm0 220h160v-160H400v160ZM180-400h160v-160H180v160Zm440 0h160v-160H620v160ZM180-180h160v-160H180v160Zm440 0h160v-160H620v160Z\"/>\n",
              "  </svg>\n",
              "    </button>\n",
              "\n",
              "  <style>\n",
              "    .colab-df-container {\n",
              "      display:flex;\n",
              "      gap: 12px;\n",
              "    }\n",
              "\n",
              "    .colab-df-convert {\n",
              "      background-color: #E8F0FE;\n",
              "      border: none;\n",
              "      border-radius: 50%;\n",
              "      cursor: pointer;\n",
              "      display: none;\n",
              "      fill: #1967D2;\n",
              "      height: 32px;\n",
              "      padding: 0 0 0 0;\n",
              "      width: 32px;\n",
              "    }\n",
              "\n",
              "    .colab-df-convert:hover {\n",
              "      background-color: #E2EBFA;\n",
              "      box-shadow: 0px 1px 2px rgba(60, 64, 67, 0.3), 0px 1px 3px 1px rgba(60, 64, 67, 0.15);\n",
              "      fill: #174EA6;\n",
              "    }\n",
              "\n",
              "    .colab-df-buttons div {\n",
              "      margin-bottom: 4px;\n",
              "    }\n",
              "\n",
              "    [theme=dark] .colab-df-convert {\n",
              "      background-color: #3B4455;\n",
              "      fill: #D2E3FC;\n",
              "    }\n",
              "\n",
              "    [theme=dark] .colab-df-convert:hover {\n",
              "      background-color: #434B5C;\n",
              "      box-shadow: 0px 1px 3px 1px rgba(0, 0, 0, 0.15);\n",
              "      filter: drop-shadow(0px 1px 2px rgba(0, 0, 0, 0.3));\n",
              "      fill: #FFFFFF;\n",
              "    }\n",
              "  </style>\n",
              "\n",
              "    <script>\n",
              "      const buttonEl =\n",
              "        document.querySelector('#df-d7afddcf-da47-497e-ba04-e162ae38708b button.colab-df-convert');\n",
              "      buttonEl.style.display =\n",
              "        google.colab.kernel.accessAllowed ? 'block' : 'none';\n",
              "\n",
              "      async function convertToInteractive(key) {\n",
              "        const element = document.querySelector('#df-d7afddcf-da47-497e-ba04-e162ae38708b');\n",
              "        const dataTable =\n",
              "          await google.colab.kernel.invokeFunction('convertToInteractive',\n",
              "                                                    [key], {});\n",
              "        if (!dataTable) return;\n",
              "\n",
              "        const docLinkHtml = 'Like what you see? Visit the ' +\n",
              "          '<a target=\"_blank\" href=https://colab.research.google.com/notebooks/data_table.ipynb>data table notebook</a>'\n",
              "          + ' to learn more about interactive tables.';\n",
              "        element.innerHTML = '';\n",
              "        dataTable['output_type'] = 'display_data';\n",
              "        await google.colab.output.renderOutput(dataTable, element);\n",
              "        const docLink = document.createElement('div');\n",
              "        docLink.innerHTML = docLinkHtml;\n",
              "        element.appendChild(docLink);\n",
              "      }\n",
              "    </script>\n",
              "  </div>\n",
              "\n",
              "\n",
              "    <div id=\"df-19a7390f-52f1-462c-adf8-475dab1704ab\">\n",
              "      <button class=\"colab-df-quickchart\" onclick=\"quickchart('df-19a7390f-52f1-462c-adf8-475dab1704ab')\"\n",
              "                title=\"Suggest charts\"\n",
              "                style=\"display:none;\">\n",
              "\n",
              "<svg xmlns=\"http://www.w3.org/2000/svg\" height=\"24px\"viewBox=\"0 0 24 24\"\n",
              "     width=\"24px\">\n",
              "    <g>\n",
              "        <path d=\"M19 3H5c-1.1 0-2 .9-2 2v14c0 1.1.9 2 2 2h14c1.1 0 2-.9 2-2V5c0-1.1-.9-2-2-2zM9 17H7v-7h2v7zm4 0h-2V7h2v10zm4 0h-2v-4h2v4z\"/>\n",
              "    </g>\n",
              "</svg>\n",
              "      </button>\n",
              "\n",
              "<style>\n",
              "  .colab-df-quickchart {\n",
              "      --bg-color: #E8F0FE;\n",
              "      --fill-color: #1967D2;\n",
              "      --hover-bg-color: #E2EBFA;\n",
              "      --hover-fill-color: #174EA6;\n",
              "      --disabled-fill-color: #AAA;\n",
              "      --disabled-bg-color: #DDD;\n",
              "  }\n",
              "\n",
              "  [theme=dark] .colab-df-quickchart {\n",
              "      --bg-color: #3B4455;\n",
              "      --fill-color: #D2E3FC;\n",
              "      --hover-bg-color: #434B5C;\n",
              "      --hover-fill-color: #FFFFFF;\n",
              "      --disabled-bg-color: #3B4455;\n",
              "      --disabled-fill-color: #666;\n",
              "  }\n",
              "\n",
              "  .colab-df-quickchart {\n",
              "    background-color: var(--bg-color);\n",
              "    border: none;\n",
              "    border-radius: 50%;\n",
              "    cursor: pointer;\n",
              "    display: none;\n",
              "    fill: var(--fill-color);\n",
              "    height: 32px;\n",
              "    padding: 0;\n",
              "    width: 32px;\n",
              "  }\n",
              "\n",
              "  .colab-df-quickchart:hover {\n",
              "    background-color: var(--hover-bg-color);\n",
              "    box-shadow: 0 1px 2px rgba(60, 64, 67, 0.3), 0 1px 3px 1px rgba(60, 64, 67, 0.15);\n",
              "    fill: var(--button-hover-fill-color);\n",
              "  }\n",
              "\n",
              "  .colab-df-quickchart-complete:disabled,\n",
              "  .colab-df-quickchart-complete:disabled:hover {\n",
              "    background-color: var(--disabled-bg-color);\n",
              "    fill: var(--disabled-fill-color);\n",
              "    box-shadow: none;\n",
              "  }\n",
              "\n",
              "  .colab-df-spinner {\n",
              "    border: 2px solid var(--fill-color);\n",
              "    border-color: transparent;\n",
              "    border-bottom-color: var(--fill-color);\n",
              "    animation:\n",
              "      spin 1s steps(1) infinite;\n",
              "  }\n",
              "\n",
              "  @keyframes spin {\n",
              "    0% {\n",
              "      border-color: transparent;\n",
              "      border-bottom-color: var(--fill-color);\n",
              "      border-left-color: var(--fill-color);\n",
              "    }\n",
              "    20% {\n",
              "      border-color: transparent;\n",
              "      border-left-color: var(--fill-color);\n",
              "      border-top-color: var(--fill-color);\n",
              "    }\n",
              "    30% {\n",
              "      border-color: transparent;\n",
              "      border-left-color: var(--fill-color);\n",
              "      border-top-color: var(--fill-color);\n",
              "      border-right-color: var(--fill-color);\n",
              "    }\n",
              "    40% {\n",
              "      border-color: transparent;\n",
              "      border-right-color: var(--fill-color);\n",
              "      border-top-color: var(--fill-color);\n",
              "    }\n",
              "    60% {\n",
              "      border-color: transparent;\n",
              "      border-right-color: var(--fill-color);\n",
              "    }\n",
              "    80% {\n",
              "      border-color: transparent;\n",
              "      border-right-color: var(--fill-color);\n",
              "      border-bottom-color: var(--fill-color);\n",
              "    }\n",
              "    90% {\n",
              "      border-color: transparent;\n",
              "      border-bottom-color: var(--fill-color);\n",
              "    }\n",
              "  }\n",
              "</style>\n",
              "\n",
              "      <script>\n",
              "        async function quickchart(key) {\n",
              "          const quickchartButtonEl =\n",
              "            document.querySelector('#' + key + ' button');\n",
              "          quickchartButtonEl.disabled = true;  // To prevent multiple clicks.\n",
              "          quickchartButtonEl.classList.add('colab-df-spinner');\n",
              "          try {\n",
              "            const charts = await google.colab.kernel.invokeFunction(\n",
              "                'suggestCharts', [key], {});\n",
              "          } catch (error) {\n",
              "            console.error('Error during call to suggestCharts:', error);\n",
              "          }\n",
              "          quickchartButtonEl.classList.remove('colab-df-spinner');\n",
              "          quickchartButtonEl.classList.add('colab-df-quickchart-complete');\n",
              "        }\n",
              "        (() => {\n",
              "          let quickchartButtonEl =\n",
              "            document.querySelector('#df-19a7390f-52f1-462c-adf8-475dab1704ab button');\n",
              "          quickchartButtonEl.style.display =\n",
              "            google.colab.kernel.accessAllowed ? 'block' : 'none';\n",
              "        })();\n",
              "      </script>\n",
              "    </div>\n",
              "\n",
              "    </div>\n",
              "  </div>\n"
            ],
            "application/vnd.google.colaboratory.intrinsic+json": {
              "type": "dataframe",
              "summary": "{\n  \"name\": \"val_ratings\",\n  \"rows\": 4,\n  \"fields\": [\n    {\n      \"column\": \"user\",\n      \"properties\": {\n        \"dtype\": \"string\",\n        \"num_unique_values\": 4,\n        \"samples\": [\n          \"[1003282] CHI-TOWN\",\n          \"[1012166] Bertin Ramirez \\\"justareviewer\\\"\",\n          \"[1001561] D. Wetzel\"\n        ],\n        \"semantic_type\": \"\",\n        \"description\": \"\"\n      }\n    },\n    {\n      \"column\": \"[100004] High School Confidential [VHS]\",\n      \"properties\": {\n        \"dtype\": \"number\",\n        \"std\": null,\n        \"min\": null,\n        \"max\": null,\n        \"num_unique_values\": 0,\n        \"samples\": [],\n        \"semantic_type\": \"\",\n        \"description\": \"\"\n      }\n    },\n    {\n      \"column\": \"[100019] Julius Caesar [VHS]\",\n      \"properties\": {\n        \"dtype\": \"number\",\n        \"std\": null,\n        \"min\": null,\n        \"max\": null,\n        \"num_unique_values\": 0,\n        \"samples\": [],\n        \"semantic_type\": \"\",\n        \"description\": \"\"\n      }\n    },\n    {\n      \"column\": \"[100027] Love Happy [VHS]\",\n      \"properties\": {\n        \"dtype\": \"number\",\n        \"std\": null,\n        \"min\": null,\n        \"max\": null,\n        \"num_unique_values\": 0,\n        \"samples\": [],\n        \"semantic_type\": \"\",\n        \"description\": \"\"\n      }\n    },\n    {\n      \"column\": \"[100066] Foul Play [VHS]\",\n      \"properties\": {\n        \"dtype\": \"number\",\n        \"std\": null,\n        \"min\": null,\n        \"max\": null,\n        \"num_unique_values\": 0,\n        \"samples\": [],\n        \"semantic_type\": \"\",\n        \"description\": \"\"\n      }\n    }\n  ]\n}"
            }
          },
          "metadata": {},
          "execution_count": 85
        }
      ],
      "source": [
        "val_ratings.iloc[:4, :4]"
      ]
    },
    {
      "cell_type": "markdown",
      "metadata": {
        "id": "b3_wWe0gxEFe"
      },
      "source": [
        "**Attenzione:** le righe e colonne di questo frame non sono conformi a quello analogo dei dati di training: ad esempio l'utente rappresentato nella seconda riga di `val_ratings` non è lo stesso rappresentato nella seconda riga di `train_ratings`\n",
        "\n",
        "Già la forma dei frame è diversa, perché alcuni utenti e oggetti presenti nel training non lo sono quì"
      ]
    },
    {
      "cell_type": "code",
      "execution_count": 72,
      "metadata": {
        "id": "UA-r0BurxEFe",
        "outputId": "10b73f8c-4387-4aa8-c4a9-455c61e4ca1c",
        "colab": {
          "base_uri": "https://localhost:8080/"
        }
      },
      "outputs": [
        {
          "output_type": "execute_result",
          "data": {
            "text/plain": [
              "False"
            ]
          },
          "metadata": {},
          "execution_count": 72
        }
      ],
      "source": [
        "val_ratings.shape == train_ratings.shape"
      ]
    },
    {
      "cell_type": "markdown",
      "metadata": {
        "id": "XTkeGFU5xEFe"
      },
      "source": [
        "Utilizziamo il metodo `reindex_like` per ottenere un frame che contenga i dati di `val_ratings` ma con le stesse righe e colonne di `train_ratings`. Il frame risultante contiene valori `NaN` in righe e colonne che non erano presenti nel frame originale."
      ]
    },
    {
      "cell_type": "code",
      "execution_count": 73,
      "metadata": {
        "id": "-Loge9lSxEFe"
      },
      "outputs": [],
      "source": [
        "val_ratings = val_ratings.reindex_like(train_ratings)"
      ]
    },
    {
      "cell_type": "markdown",
      "metadata": {
        "id": "vTZPihp8xEFe"
      },
      "source": [
        "Otteniamo così un nuovo frame compatibile con quello di training"
      ]
    },
    {
      "cell_type": "code",
      "execution_count": 74,
      "metadata": {
        "id": "2HMOJ6r9xEFe",
        "outputId": "30d109ee-bac8-4a5b-9747-39cf999a844e",
        "colab": {
          "base_uri": "https://localhost:8080/",
          "height": 238
        }
      },
      "outputs": [
        {
          "output_type": "execute_result",
          "data": {
            "text/plain": [
              "item                                      [100004] High School Confidential [VHS]  \\\n",
              "user                                                                                \n",
              "[1001561] D. Wetzel                                                           NaN   \n",
              "[1001958] Neural Clone \"zarran67\"                                             NaN   \n",
              "[1003282] CHI-TOWN                                                            NaN   \n",
              "[1007279] James L.                                                            NaN   \n",
              "[1012166] Bertin Ramirez \"justareviewer\"                                      NaN   \n",
              "\n",
              "item                                      [100019] Julius Caesar [VHS]  \\\n",
              "user                                                                     \n",
              "[1001561] D. Wetzel                                                NaN   \n",
              "[1001958] Neural Clone \"zarran67\"                                  NaN   \n",
              "[1003282] CHI-TOWN                                                 NaN   \n",
              "[1007279] James L.                                                 NaN   \n",
              "[1012166] Bertin Ramirez \"justareviewer\"                           NaN   \n",
              "\n",
              "item                                      [100027] Love Happy [VHS]  \\\n",
              "user                                                                  \n",
              "[1001561] D. Wetzel                                             NaN   \n",
              "[1001958] Neural Clone \"zarran67\"                               NaN   \n",
              "[1003282] CHI-TOWN                                              NaN   \n",
              "[1007279] James L.                                              NaN   \n",
              "[1012166] Bertin Ramirez \"justareviewer\"                        NaN   \n",
              "\n",
              "item                                      [100028] Dark Mirror [VHS]  \\\n",
              "user                                                                   \n",
              "[1001561] D. Wetzel                                              NaN   \n",
              "[1001958] Neural Clone \"zarran67\"                                NaN   \n",
              "[1003282] CHI-TOWN                                               NaN   \n",
              "[1007279] James L.                                               NaN   \n",
              "[1012166] Bertin Ramirez \"justareviewer\"                         NaN   \n",
              "\n",
              "item                                      [100066] Foul Play [VHS]  \n",
              "user                                                                \n",
              "[1001561] D. Wetzel                                            NaN  \n",
              "[1001958] Neural Clone \"zarran67\"                              NaN  \n",
              "[1003282] CHI-TOWN                                             NaN  \n",
              "[1007279] James L.                                             NaN  \n",
              "[1012166] Bertin Ramirez \"justareviewer\"                       NaN  "
            ],
            "text/html": [
              "\n",
              "  <div id=\"df-145a365d-99aa-4897-a34f-f27001b0a61b\" class=\"colab-df-container\">\n",
              "    <div>\n",
              "<style scoped>\n",
              "    .dataframe tbody tr th:only-of-type {\n",
              "        vertical-align: middle;\n",
              "    }\n",
              "\n",
              "    .dataframe tbody tr th {\n",
              "        vertical-align: top;\n",
              "    }\n",
              "\n",
              "    .dataframe thead th {\n",
              "        text-align: right;\n",
              "    }\n",
              "</style>\n",
              "<table border=\"1\" class=\"dataframe\">\n",
              "  <thead>\n",
              "    <tr style=\"text-align: right;\">\n",
              "      <th>item</th>\n",
              "      <th>[100004] High School Confidential [VHS]</th>\n",
              "      <th>[100019] Julius Caesar [VHS]</th>\n",
              "      <th>[100027] Love Happy [VHS]</th>\n",
              "      <th>[100028] Dark Mirror [VHS]</th>\n",
              "      <th>[100066] Foul Play [VHS]</th>\n",
              "    </tr>\n",
              "    <tr>\n",
              "      <th>user</th>\n",
              "      <th></th>\n",
              "      <th></th>\n",
              "      <th></th>\n",
              "      <th></th>\n",
              "      <th></th>\n",
              "    </tr>\n",
              "  </thead>\n",
              "  <tbody>\n",
              "    <tr>\n",
              "      <th>[1001561] D. Wetzel</th>\n",
              "      <td>NaN</td>\n",
              "      <td>NaN</td>\n",
              "      <td>NaN</td>\n",
              "      <td>NaN</td>\n",
              "      <td>NaN</td>\n",
              "    </tr>\n",
              "    <tr>\n",
              "      <th>[1001958] Neural Clone \"zarran67\"</th>\n",
              "      <td>NaN</td>\n",
              "      <td>NaN</td>\n",
              "      <td>NaN</td>\n",
              "      <td>NaN</td>\n",
              "      <td>NaN</td>\n",
              "    </tr>\n",
              "    <tr>\n",
              "      <th>[1003282] CHI-TOWN</th>\n",
              "      <td>NaN</td>\n",
              "      <td>NaN</td>\n",
              "      <td>NaN</td>\n",
              "      <td>NaN</td>\n",
              "      <td>NaN</td>\n",
              "    </tr>\n",
              "    <tr>\n",
              "      <th>[1007279] James L.</th>\n",
              "      <td>NaN</td>\n",
              "      <td>NaN</td>\n",
              "      <td>NaN</td>\n",
              "      <td>NaN</td>\n",
              "      <td>NaN</td>\n",
              "    </tr>\n",
              "    <tr>\n",
              "      <th>[1012166] Bertin Ramirez \"justareviewer\"</th>\n",
              "      <td>NaN</td>\n",
              "      <td>NaN</td>\n",
              "      <td>NaN</td>\n",
              "      <td>NaN</td>\n",
              "      <td>NaN</td>\n",
              "    </tr>\n",
              "  </tbody>\n",
              "</table>\n",
              "</div>\n",
              "    <div class=\"colab-df-buttons\">\n",
              "\n",
              "  <div class=\"colab-df-container\">\n",
              "    <button class=\"colab-df-convert\" onclick=\"convertToInteractive('df-145a365d-99aa-4897-a34f-f27001b0a61b')\"\n",
              "            title=\"Convert this dataframe to an interactive table.\"\n",
              "            style=\"display:none;\">\n",
              "\n",
              "  <svg xmlns=\"http://www.w3.org/2000/svg\" height=\"24px\" viewBox=\"0 -960 960 960\">\n",
              "    <path d=\"M120-120v-720h720v720H120Zm60-500h600v-160H180v160Zm220 220h160v-160H400v160Zm0 220h160v-160H400v160ZM180-400h160v-160H180v160Zm440 0h160v-160H620v160ZM180-180h160v-160H180v160Zm440 0h160v-160H620v160Z\"/>\n",
              "  </svg>\n",
              "    </button>\n",
              "\n",
              "  <style>\n",
              "    .colab-df-container {\n",
              "      display:flex;\n",
              "      gap: 12px;\n",
              "    }\n",
              "\n",
              "    .colab-df-convert {\n",
              "      background-color: #E8F0FE;\n",
              "      border: none;\n",
              "      border-radius: 50%;\n",
              "      cursor: pointer;\n",
              "      display: none;\n",
              "      fill: #1967D2;\n",
              "      height: 32px;\n",
              "      padding: 0 0 0 0;\n",
              "      width: 32px;\n",
              "    }\n",
              "\n",
              "    .colab-df-convert:hover {\n",
              "      background-color: #E2EBFA;\n",
              "      box-shadow: 0px 1px 2px rgba(60, 64, 67, 0.3), 0px 1px 3px 1px rgba(60, 64, 67, 0.15);\n",
              "      fill: #174EA6;\n",
              "    }\n",
              "\n",
              "    .colab-df-buttons div {\n",
              "      margin-bottom: 4px;\n",
              "    }\n",
              "\n",
              "    [theme=dark] .colab-df-convert {\n",
              "      background-color: #3B4455;\n",
              "      fill: #D2E3FC;\n",
              "    }\n",
              "\n",
              "    [theme=dark] .colab-df-convert:hover {\n",
              "      background-color: #434B5C;\n",
              "      box-shadow: 0px 1px 3px 1px rgba(0, 0, 0, 0.15);\n",
              "      filter: drop-shadow(0px 1px 2px rgba(0, 0, 0, 0.3));\n",
              "      fill: #FFFFFF;\n",
              "    }\n",
              "  </style>\n",
              "\n",
              "    <script>\n",
              "      const buttonEl =\n",
              "        document.querySelector('#df-145a365d-99aa-4897-a34f-f27001b0a61b button.colab-df-convert');\n",
              "      buttonEl.style.display =\n",
              "        google.colab.kernel.accessAllowed ? 'block' : 'none';\n",
              "\n",
              "      async function convertToInteractive(key) {\n",
              "        const element = document.querySelector('#df-145a365d-99aa-4897-a34f-f27001b0a61b');\n",
              "        const dataTable =\n",
              "          await google.colab.kernel.invokeFunction('convertToInteractive',\n",
              "                                                    [key], {});\n",
              "        if (!dataTable) return;\n",
              "\n",
              "        const docLinkHtml = 'Like what you see? Visit the ' +\n",
              "          '<a target=\"_blank\" href=https://colab.research.google.com/notebooks/data_table.ipynb>data table notebook</a>'\n",
              "          + ' to learn more about interactive tables.';\n",
              "        element.innerHTML = '';\n",
              "        dataTable['output_type'] = 'display_data';\n",
              "        await google.colab.output.renderOutput(dataTable, element);\n",
              "        const docLink = document.createElement('div');\n",
              "        docLink.innerHTML = docLinkHtml;\n",
              "        element.appendChild(docLink);\n",
              "      }\n",
              "    </script>\n",
              "  </div>\n",
              "\n",
              "\n",
              "    <div id=\"df-08ae3481-dd9d-4fc8-b559-bbac6a1a476c\">\n",
              "      <button class=\"colab-df-quickchart\" onclick=\"quickchart('df-08ae3481-dd9d-4fc8-b559-bbac6a1a476c')\"\n",
              "                title=\"Suggest charts\"\n",
              "                style=\"display:none;\">\n",
              "\n",
              "<svg xmlns=\"http://www.w3.org/2000/svg\" height=\"24px\"viewBox=\"0 0 24 24\"\n",
              "     width=\"24px\">\n",
              "    <g>\n",
              "        <path d=\"M19 3H5c-1.1 0-2 .9-2 2v14c0 1.1.9 2 2 2h14c1.1 0 2-.9 2-2V5c0-1.1-.9-2-2-2zM9 17H7v-7h2v7zm4 0h-2V7h2v10zm4 0h-2v-4h2v4z\"/>\n",
              "    </g>\n",
              "</svg>\n",
              "      </button>\n",
              "\n",
              "<style>\n",
              "  .colab-df-quickchart {\n",
              "      --bg-color: #E8F0FE;\n",
              "      --fill-color: #1967D2;\n",
              "      --hover-bg-color: #E2EBFA;\n",
              "      --hover-fill-color: #174EA6;\n",
              "      --disabled-fill-color: #AAA;\n",
              "      --disabled-bg-color: #DDD;\n",
              "  }\n",
              "\n",
              "  [theme=dark] .colab-df-quickchart {\n",
              "      --bg-color: #3B4455;\n",
              "      --fill-color: #D2E3FC;\n",
              "      --hover-bg-color: #434B5C;\n",
              "      --hover-fill-color: #FFFFFF;\n",
              "      --disabled-bg-color: #3B4455;\n",
              "      --disabled-fill-color: #666;\n",
              "  }\n",
              "\n",
              "  .colab-df-quickchart {\n",
              "    background-color: var(--bg-color);\n",
              "    border: none;\n",
              "    border-radius: 50%;\n",
              "    cursor: pointer;\n",
              "    display: none;\n",
              "    fill: var(--fill-color);\n",
              "    height: 32px;\n",
              "    padding: 0;\n",
              "    width: 32px;\n",
              "  }\n",
              "\n",
              "  .colab-df-quickchart:hover {\n",
              "    background-color: var(--hover-bg-color);\n",
              "    box-shadow: 0 1px 2px rgba(60, 64, 67, 0.3), 0 1px 3px 1px rgba(60, 64, 67, 0.15);\n",
              "    fill: var(--button-hover-fill-color);\n",
              "  }\n",
              "\n",
              "  .colab-df-quickchart-complete:disabled,\n",
              "  .colab-df-quickchart-complete:disabled:hover {\n",
              "    background-color: var(--disabled-bg-color);\n",
              "    fill: var(--disabled-fill-color);\n",
              "    box-shadow: none;\n",
              "  }\n",
              "\n",
              "  .colab-df-spinner {\n",
              "    border: 2px solid var(--fill-color);\n",
              "    border-color: transparent;\n",
              "    border-bottom-color: var(--fill-color);\n",
              "    animation:\n",
              "      spin 1s steps(1) infinite;\n",
              "  }\n",
              "\n",
              "  @keyframes spin {\n",
              "    0% {\n",
              "      border-color: transparent;\n",
              "      border-bottom-color: var(--fill-color);\n",
              "      border-left-color: var(--fill-color);\n",
              "    }\n",
              "    20% {\n",
              "      border-color: transparent;\n",
              "      border-left-color: var(--fill-color);\n",
              "      border-top-color: var(--fill-color);\n",
              "    }\n",
              "    30% {\n",
              "      border-color: transparent;\n",
              "      border-left-color: var(--fill-color);\n",
              "      border-top-color: var(--fill-color);\n",
              "      border-right-color: var(--fill-color);\n",
              "    }\n",
              "    40% {\n",
              "      border-color: transparent;\n",
              "      border-right-color: var(--fill-color);\n",
              "      border-top-color: var(--fill-color);\n",
              "    }\n",
              "    60% {\n",
              "      border-color: transparent;\n",
              "      border-right-color: var(--fill-color);\n",
              "    }\n",
              "    80% {\n",
              "      border-color: transparent;\n",
              "      border-right-color: var(--fill-color);\n",
              "      border-bottom-color: var(--fill-color);\n",
              "    }\n",
              "    90% {\n",
              "      border-color: transparent;\n",
              "      border-bottom-color: var(--fill-color);\n",
              "    }\n",
              "  }\n",
              "</style>\n",
              "\n",
              "      <script>\n",
              "        async function quickchart(key) {\n",
              "          const quickchartButtonEl =\n",
              "            document.querySelector('#' + key + ' button');\n",
              "          quickchartButtonEl.disabled = true;  // To prevent multiple clicks.\n",
              "          quickchartButtonEl.classList.add('colab-df-spinner');\n",
              "          try {\n",
              "            const charts = await google.colab.kernel.invokeFunction(\n",
              "                'suggestCharts', [key], {});\n",
              "          } catch (error) {\n",
              "            console.error('Error during call to suggestCharts:', error);\n",
              "          }\n",
              "          quickchartButtonEl.classList.remove('colab-df-spinner');\n",
              "          quickchartButtonEl.classList.add('colab-df-quickchart-complete');\n",
              "        }\n",
              "        (() => {\n",
              "          let quickchartButtonEl =\n",
              "            document.querySelector('#df-08ae3481-dd9d-4fc8-b559-bbac6a1a476c button');\n",
              "          quickchartButtonEl.style.display =\n",
              "            google.colab.kernel.accessAllowed ? 'block' : 'none';\n",
              "        })();\n",
              "      </script>\n",
              "    </div>\n",
              "\n",
              "    </div>\n",
              "  </div>\n"
            ],
            "application/vnd.google.colaboratory.intrinsic+json": {
              "type": "dataframe",
              "summary": "{\n  \"name\": \"val_ratings\",\n  \"rows\": 5,\n  \"fields\": [\n    {\n      \"column\": \"user\",\n      \"properties\": {\n        \"dtype\": \"string\",\n        \"num_unique_values\": 5,\n        \"samples\": [\n          \"[1001958] Neural Clone \\\"zarran67\\\"\",\n          \"[1012166] Bertin Ramirez \\\"justareviewer\\\"\",\n          \"[1003282] CHI-TOWN\"\n        ],\n        \"semantic_type\": \"\",\n        \"description\": \"\"\n      }\n    },\n    {\n      \"column\": \"[100004] High School Confidential [VHS]\",\n      \"properties\": {\n        \"dtype\": \"number\",\n        \"std\": null,\n        \"min\": null,\n        \"max\": null,\n        \"num_unique_values\": 0,\n        \"samples\": [],\n        \"semantic_type\": \"\",\n        \"description\": \"\"\n      }\n    },\n    {\n      \"column\": \"[100019] Julius Caesar [VHS]\",\n      \"properties\": {\n        \"dtype\": \"number\",\n        \"std\": null,\n        \"min\": null,\n        \"max\": null,\n        \"num_unique_values\": 0,\n        \"samples\": [],\n        \"semantic_type\": \"\",\n        \"description\": \"\"\n      }\n    },\n    {\n      \"column\": \"[100027] Love Happy [VHS]\",\n      \"properties\": {\n        \"dtype\": \"number\",\n        \"std\": null,\n        \"min\": null,\n        \"max\": null,\n        \"num_unique_values\": 0,\n        \"samples\": [],\n        \"semantic_type\": \"\",\n        \"description\": \"\"\n      }\n    },\n    {\n      \"column\": \"[100028] Dark Mirror [VHS]\",\n      \"properties\": {\n        \"dtype\": \"number\",\n        \"std\": null,\n        \"min\": null,\n        \"max\": null,\n        \"num_unique_values\": 0,\n        \"samples\": [],\n        \"semantic_type\": \"\",\n        \"description\": \"\"\n      }\n    },\n    {\n      \"column\": \"[100066] Foul Play [VHS]\",\n      \"properties\": {\n        \"dtype\": \"number\",\n        \"std\": null,\n        \"min\": null,\n        \"max\": null,\n        \"num_unique_values\": 0,\n        \"samples\": [],\n        \"semantic_type\": \"\",\n        \"description\": \"\"\n      }\n    }\n  ]\n}"
            }
          },
          "metadata": {},
          "execution_count": 74
        }
      ],
      "source": [
        "val_ratings.iloc[:5, :5]"
      ]
    },
    {
      "cell_type": "code",
      "execution_count": 75,
      "metadata": {
        "id": "cAG7bF8RxEFe",
        "outputId": "3f067b0b-9ddc-484f-b0fe-27c9c0703d2a",
        "colab": {
          "base_uri": "https://localhost:8080/"
        }
      },
      "outputs": [
        {
          "output_type": "execute_result",
          "data": {
            "text/plain": [
              "True"
            ]
          },
          "metadata": {},
          "execution_count": 75
        }
      ],
      "source": [
        "np.array_equal(train_ratings.index, val_ratings.index)"
      ]
    },
    {
      "cell_type": "code",
      "execution_count": 76,
      "metadata": {
        "id": "skcTrdLkxEFf",
        "outputId": "c8f656aa-e08e-464c-8969-c5354a486dec",
        "colab": {
          "base_uri": "https://localhost:8080/"
        }
      },
      "outputs": [
        {
          "output_type": "execute_result",
          "data": {
            "text/plain": [
              "True"
            ]
          },
          "metadata": {},
          "execution_count": 76
        }
      ],
      "source": [
        "np.array_equal(train_ratings.columns, val_ratings.columns)"
      ]
    },
    {
      "cell_type": "markdown",
      "metadata": {
        "id": "Y2YHVoudxEFf"
      },
      "source": [
        "Analogamente a prima, estraiamo\n",
        "\n",
        "- una matrice dei voti `R_val`, impostando a 0 quelli mancanti\n",
        "- una matrice booleana `P_val` che indichi per quali coppie utente-oggetto è presente un voto"
      ]
    },
    {
      "cell_type": "code",
      "execution_count": 77,
      "metadata": {
        "id": "eJox5ApGxEFf"
      },
      "outputs": [],
      "source": [
        "R_val = val_ratings.fillna(0).values\n",
        "P_val = val_ratings.notna().values"
      ]
    },
    {
      "cell_type": "code",
      "execution_count": 78,
      "metadata": {
        "id": "fQLSuSNWxEFf",
        "outputId": "f44f2670-35d6-47ca-bcd3-0f12db2a6020",
        "colab": {
          "base_uri": "https://localhost:8080/"
        }
      },
      "outputs": [
        {
          "output_type": "execute_result",
          "data": {
            "text/plain": [
              "array([[0., 0., 0., 0.],\n",
              "       [0., 0., 0., 0.],\n",
              "       [0., 0., 0., 0.],\n",
              "       [0., 5., 0., 4.]])"
            ]
          },
          "metadata": {},
          "execution_count": 78
        }
      ],
      "source": [
        "R_val[:4, -4:]"
      ]
    },
    {
      "cell_type": "code",
      "execution_count": 79,
      "metadata": {
        "id": "EcM5i3X2xEFf",
        "outputId": "fc147312-a4b0-416f-d539-6708de1adf22",
        "colab": {
          "base_uri": "https://localhost:8080/"
        }
      },
      "outputs": [
        {
          "output_type": "execute_result",
          "data": {
            "text/plain": [
              "array([[False, False, False, False],\n",
              "       [False, False, False, False],\n",
              "       [False, False, False, False],\n",
              "       [False,  True, False,  True]])"
            ]
          },
          "metadata": {},
          "execution_count": 79
        }
      ],
      "source": [
        "P_val[:4, -4:]"
      ]
    },
    {
      "cell_type": "markdown",
      "metadata": {
        "id": "NjtPvNyExEFf"
      },
      "source": [
        "Estraiamo un vettore `val_actual` con tutti i voti definiti nel validation set"
      ]
    },
    {
      "cell_type": "code",
      "execution_count": 80,
      "metadata": {
        "id": "c0nZDXbTxEFf"
      },
      "outputs": [],
      "source": [
        "val_actual = R_val[P_val]"
      ]
    },
    {
      "cell_type": "markdown",
      "metadata": {
        "id": "Mp69t8hTxEFf"
      },
      "source": [
        "Definiamo quindi una funzione `get_val_predictions` che\n",
        "\n",
        "- accetti in ingresso una funzione `pred_func(u, i)` che predice il voto di un utente `u` ad un oggetto `i`\n",
        "- la applichi su tutte le coppie del validation set\n",
        "- restituisca un vettore con le predizioni estratte, allineate ai voti reali del vettore `val_actual`\n",
        "  - `zip(*P_val.nonzero())` restituisce tutte le tuple `(u, i)` per cui `P_val[u, i]` è `True`"
      ]
    },
    {
      "cell_type": "code",
      "execution_count": 81,
      "metadata": {
        "id": "tauuPK5hxEFf"
      },
      "outputs": [],
      "source": [
        "def get_val_predictions(pred_func):\n",
        "    return np.array([\n",
        "        pred_func(u, i)\n",
        "        for u, i in zip(*P_val.nonzero())\n",
        "    ])"
      ]
    },
    {
      "cell_type": "markdown",
      "metadata": {
        "id": "T0V0SOPhxEFf"
      },
      "source": [
        "## RMSE\n",
        "\n",
        "Il _Root Mean Squared Error_ (RMSE) è una metrica di valutazione usata comunemente per i sistemi di recommendation\n",
        "\n",
        "Dato un validation set $V$ di voti reali $r_{u,i}$ per cui abbiamo estratto delle predizioni $\\hat{r}_{u,i}$, il RMSE è\n",
        "\n",
        "$$ \\text{RMSE} = \\sqrt{\\frac{1}{|V|} \\sum_{r_{u,i}\\in V} (\\hat{r}_{u,i}-r_{u,i})^2} $$\n",
        "\n",
        "Si può usare per comparare diversi modelli di recommendation sugli stessi dati: essendo una misura d'errore, i modelli migliori sono quelli con RMSE minore\n",
        "\n",
        "Similmente al MSE dei modelli di regressione, non è facile interpretare quanto un valore di RMSE sia \"buono\" senza un riferimento: si può ad es. comparare a recommendation casuali, che vedremo come estrarre con Surprise"
      ]
    },
    {
      "cell_type": "markdown",
      "metadata": {
        "id": "v05aZEv6xEFf"
      },
      "source": [
        "### Esercizio 4: Calcolo del RMSE\n",
        "\n",
        "- **(4a)** Definire una funzione `RMSE` che, dati dei vettori di voti reali e corrispondenti predizioni, calcoli e restituisca il RMSE\n",
        "- **(4b)** Usando `get_val_predictions`, estrarre i voti predetti sul validation set dalla funzione `predict_from_all`\n",
        "- **(4c)** Calcolare il RMSE di tali predizioni"
      ]
    },
    {
      "cell_type": "code",
      "execution_count": 93,
      "metadata": {
        "id": "1jceK1TMxEFf"
      },
      "outputs": [],
      "source": [
        "def RMSE(actual, predicted):\n",
        "    return np.sqrt(np.mean(np.square((predicted - actual))))"
      ]
    },
    {
      "cell_type": "code",
      "source": [
        "val_pred = get_val_predictions(predict_from_all)"
      ],
      "metadata": {
        "id": "QnOTDJQMFW8n",
        "outputId": "e8acb9d0-a921-40be-f35b-428e04953474",
        "colab": {
          "base_uri": "https://localhost:8080/"
        }
      },
      "execution_count": 94,
      "outputs": [
        {
          "output_type": "stream",
          "name": "stderr",
          "text": [
            "<ipython-input-82-e82a6ea34d9b>:3: RuntimeWarning: invalid value encountered in scalar divide\n",
            "  predicted_vote = (cosim[u, voters] @ R[voters, i]) / cosim[u, voters].sum()\n"
          ]
        }
      ]
    },
    {
      "cell_type": "code",
      "source": [
        "RMSE(val_actual, val_pred)"
      ],
      "metadata": {
        "id": "-nLJGURZFkcu",
        "outputId": "72b8e237-7148-480b-d620-d487311b5dc9",
        "colab": {
          "base_uri": "https://localhost:8080/"
        }
      },
      "execution_count": 95,
      "outputs": [
        {
          "output_type": "execute_result",
          "data": {
            "text/plain": [
              "np.float64(1.1764549883655138)"
            ]
          },
          "metadata": {},
          "execution_count": 95
        }
      ]
    },
    {
      "cell_type": "markdown",
      "metadata": {
        "id": "WTCet3SpxEFf"
      },
      "source": [
        "## Selezione degli utenti simili\n",
        "\n",
        "Nella versione base, abbiamo predetto ciascun voto sulla base di tutti gli altri utenti che hanno acquistato l'oggetto\n",
        "\n",
        "Per migliorare l'efficienza e potenzialmente l'accuratezza delle predizioni, possiamo limitarci ad un numero $k$ di utenti, selezionando quelli più simili\n",
        "\n",
        "Per ogni coppia utente-oggetto $(u,i)$, consideriamo un _vicinato_ $N^k_i(u)$ degli utenti più simili a $u$ che hanno acquistato $i$\n",
        "\n",
        "La predizione è calcolata come sopra, ma su questo vicinato invece che su tutti gli utenti che hanno acquistato $i$\n",
        "\n",
        "$$ \\hat{r}_{u,i} = \\frac{\\sum_{v \\in N^k_i(u)} \\text{sim}(u, v) \\cdot r_{v,i}}{\\sum_{v \\in N^k_i(u)} \\text{sim}(u, v)} $$\n",
        "\n",
        "Impostiamo un valore per il parametro $k$, ad esempio:"
      ]
    },
    {
      "cell_type": "code",
      "execution_count": 88,
      "metadata": {
        "id": "oPFMcb1UxEFf"
      },
      "outputs": [],
      "source": [
        "k = 10"
      ]
    },
    {
      "cell_type": "markdown",
      "metadata": {
        "id": "HxMdAtNlxEFf"
      },
      "source": [
        "### Esercizio 5: Calcolo predizioni su utenti simili\n",
        "\n",
        "- **(5a)** Completare la definizione della funzione `predict_from_neighbors` in modo che predica un voto $\\hat{r}_{u,i}$ sulla base dei $k$ più simili tra gli utenti che hanno acquistato $i$\n",
        "  - abbiamo copiato l'implementazione dalla funzione `predict_from_all` dell'esercizio 3: modificarla in modo da ordinare la lista di indici `voters` per similarità ad $u$ e selezionare i primi $k$\n",
        "- **(5b)** Estrarre con questa funzione i voti predetti sul validation set ed estrarne il RMSE"
      ]
    },
    {
      "cell_type": "code",
      "execution_count": 89,
      "metadata": {
        "id": "d89RtD-lxEFf"
      },
      "outputs": [],
      "source": [
        "def predict_from_neighbors(u, i):\n",
        "    voters = list(P[:, i].nonzero()[0])\n",
        "    ...\n",
        "    predicted_vote = (cosim[u, voters] @ R[voters, i]) / cosim[u, voters].sum()\n",
        "    return predicted_vote if not np.isnan(predicted_vote) else R.mean(where=P)"
      ]
    },
    {
      "cell_type": "markdown",
      "metadata": {
        "id": "624wu3a-xEFf"
      },
      "source": [
        "## Surprise\n",
        "\n",
        "_Surprise_ è una libreria Python per la creazione e la validazione di modelli di recommendation\n",
        "\n",
        "- definisce strutture per rappresentare i dati su cui addestrare i modelli\n",
        "- permette di caricare dati da diverse fonti o di utilizzare dataset d'esempio\n",
        "- implementa diverse tecniche basate su similarità, scomposizione di matrici, ...\n",
        "- fornisce funzionalità per validare i modelli calcolando comuni metriche di accuratezza come il RMSE"
      ]
    },
    {
      "cell_type": "markdown",
      "metadata": {
        "id": "-Jwck436xEFf"
      },
      "source": [
        "## Dataset\n",
        "\n",
        "Un oggetto `Dataset` consiste in un insieme di voti conosciuti dati da degli utenti a degli oggetti\n",
        "\n",
        "Utenti e oggetti in un `Dataset` sono rappresentati con identificatori arbitrari scelti dall'utente, spesso numeri o stringhe: questi sono chiamati identificatori _raw_ in Surprise\n",
        "\n",
        "Un `Dataset` può essere ottenuto da un file CSV o da un DataFrame pandas, a sua volta ottenibile da diverse fonti\n",
        "\n",
        "Surprise permette inoltre di caricare diversi dataset d'esempio di uso comune, scaricati _on demand_ dal Web"
      ]
    },
    {
      "cell_type": "markdown",
      "metadata": {
        "id": "JjBvrmTXxEFf"
      },
      "source": [
        "### Caricamento Dataset da CSV\n",
        "\n",
        "Per caricare dati da file CSV, dobbiamo prima creare un oggetto `Reader` che indichi le caratteristiche dei file\n",
        "\n",
        "- con `sep` indichiamo il separatore di campo usato nei CSV\n",
        "- con `rating_scale` indichiamo la scala di voti adottata, in forma di tupla con valori minimo e massimo"
      ]
    },
    {
      "cell_type": "code",
      "execution_count": null,
      "metadata": {
        "id": "SmmZs4gzxEFf"
      },
      "outputs": [],
      "source": [
        "from surprise import Reader\n",
        "csv_reader = Reader(sep=\",\", rating_scale=(1, 5))"
      ]
    },
    {
      "cell_type": "markdown",
      "metadata": {
        "id": "6FQftl0txEFf"
      },
      "source": [
        "Usiamo quindi la funzione `load_from_file` per caricare i due dataset, indicando i nomi dei file e il `Reader` da usare"
      ]
    },
    {
      "cell_type": "code",
      "execution_count": null,
      "metadata": {
        "id": "_AWh3HAJxEFf"
      },
      "outputs": [],
      "source": [
        "from surprise import Dataset\n",
        "train_dataset = Dataset.load_from_file(\"amazon_train.csv\", csv_reader)\n",
        "val_dataset = Dataset.load_from_file(\"amazon_val.csv\", csv_reader)"
      ]
    },
    {
      "cell_type": "markdown",
      "metadata": {
        "id": "e6I6Dqn4xEFg"
      },
      "source": [
        "## Trainset\n",
        "\n",
        "Un `Trainset` contiene le stesse informazioni di un `Dataset`, ma in forma ottimizzata per l'utilizzo da parte degli algoritmi d'apprendimento\n",
        "\n",
        "$M$ utenti ed $N$ oggetti distinti sono identificati in un `Trainset` da identificatori interni (_inner_), ovvero numeri sequenziali da 0 a $M-1$ e da 0 a $N-1$, il `Trainset` tiene comunque traccia al suo interno delle corrispondenze tra ID raw e inner\n",
        "\n",
        "Per creare un `Trainset` con tutti i voti contenuti in un `Dataset`, usare il metodo `build_full_trainset` di quest'ultimo"
      ]
    },
    {
      "cell_type": "code",
      "execution_count": null,
      "metadata": {
        "id": "LRLtfA4exEFg"
      },
      "outputs": [],
      "source": [
        "trainset = train_dataset.build_full_trainset()"
      ]
    },
    {
      "cell_type": "markdown",
      "metadata": {
        "id": "3Z_sHpT9xEFg"
      },
      "source": [
        "### Estrarre Informazioni da un Trainset\n",
        "\n",
        "Da un `Trainset` abbiamo accesso rapido ad informazioni quali il numero di utenti distinti, oggetti distinti e voti complessivi"
      ]
    },
    {
      "cell_type": "code",
      "execution_count": null,
      "metadata": {
        "id": "AgDg6SP2xEFg",
        "outputId": "99b5ae6f-03f7-4efa-906d-442d74043f69"
      },
      "outputs": [
        {
          "data": {
            "text/plain": [
              "(178, 3384, 9683)"
            ]
          },
          "execution_count": 69,
          "metadata": {},
          "output_type": "execute_result"
        }
      ],
      "source": [
        "trainset.n_users, trainset.n_items, trainset.n_ratings"
      ]
    },
    {
      "cell_type": "markdown",
      "metadata": {
        "id": "F-oUDAzqxEFg"
      },
      "source": [
        "Possiamo consultare l'elenco dei voti noti di un qualsiasi utente od oggetto dai dizionari `ur` e `ir` (vanno usati gli ID seriali interni dal `Trainset`)"
      ]
    },
    {
      "cell_type": "code",
      "execution_count": null,
      "metadata": {
        "id": "sBqJCNUGxEFg",
        "outputId": "49104d55-976c-44e6-8d82-20d1da2bbac8"
      },
      "outputs": [
        {
          "data": {
            "text/plain": [
              "[(0, 2.0), (1, 3.0), (69, 3.0)]"
            ]
          },
          "execution_count": 70,
          "metadata": {},
          "output_type": "execute_result"
        }
      ],
      "source": [
        "# es.: 3 voti dati dall'utente 0\n",
        "trainset.ur[0][:3]\n",
        "# ogni tupla: (ID oggetto, voto)"
      ]
    },
    {
      "cell_type": "markdown",
      "metadata": {
        "id": "nn4m4jYJxEFg"
      },
      "source": [
        "Possiamo vedere la media globale di tutti i voti dati"
      ]
    },
    {
      "cell_type": "code",
      "execution_count": null,
      "metadata": {
        "id": "14gMUFXDxEFg",
        "outputId": "4ea57313-1e6f-4ffe-c6ba-894f79019cff"
      },
      "outputs": [
        {
          "data": {
            "text/plain": [
              "3.931219663327481"
            ]
          },
          "execution_count": 71,
          "metadata": {},
          "output_type": "execute_result"
        }
      ],
      "source": [
        "trainset.global_mean"
      ]
    },
    {
      "cell_type": "markdown",
      "metadata": {
        "id": "2zPwnP1_xEFg"
      },
      "source": [
        "## Addestramento di un modello user-based\n",
        "\n",
        "In Surprise possiamo addestrare modelli di recommendation, in modo simile ai modelli di regressione in scikit-learn\n",
        "\n",
        "- un modello viene creato, specificandone eventuali iperparametri\n",
        "- il modello viene addestrato sui dati del training set\n",
        "- il modello può essere usato per estrarre predizioni o validato su un validation set\n",
        "\n",
        "La recommendation user-based è implementata nella classe `KNNBasic`\n",
        "\n",
        "- con `k` specifichiamo il numero di utenti simili da considerare\n",
        "- con un dizionario `sim_options` impostiamo la misura di similarità\n",
        "\n",
        "Creiamo ad esempio un modello come il primo creato sopra, che usi la similarità coseno e consideri sempre tutti gli utenti per ogni predizione (poniamo `k` uguale al numero totale di utenti)"
      ]
    },
    {
      "cell_type": "code",
      "execution_count": null,
      "metadata": {
        "id": "IY3W9ZfgxEFg"
      },
      "outputs": [],
      "source": [
        "from surprise import KNNBasic\n",
        "ubr = KNNBasic(k=trainset.n_users, sim_options={\"name\": \"cosine\"})"
      ]
    },
    {
      "cell_type": "markdown",
      "metadata": {
        "id": "lPEXFTy9xEFg"
      },
      "source": [
        "Per eseguire l'addestramento del modello, chiamarne il metodo `fit` passando il `Trainset` da utilizzare"
      ]
    },
    {
      "cell_type": "code",
      "execution_count": null,
      "metadata": {
        "id": "3-6jSqupxEFg",
        "outputId": "e85aebf7-525b-424a-bfc6-287691da593f"
      },
      "outputs": [
        {
          "name": "stdout",
          "output_type": "stream",
          "text": [
            "Computing the cosine similarity matrix...\n",
            "Done computing similarity matrix.\n"
          ]
        },
        {
          "data": {
            "text/plain": [
              "<surprise.prediction_algorithms.knns.KNNBasic at 0x7f76e5d97c50>"
            ]
          },
          "execution_count": 73,
          "metadata": {},
          "output_type": "execute_result"
        }
      ],
      "source": [
        "ubr.fit(trainset)"
      ]
    },
    {
      "cell_type": "markdown",
      "metadata": {
        "id": "vEGzjhkfxEFg"
      },
      "source": [
        "Con l'addestramento viene costruita la matrice delle similarità coseno, accessibile dall'attributo `sim` _(questa può non essere identica alla matrice `cosim` estratta in precedenza per via di un diverso ordine degli utenti)_"
      ]
    },
    {
      "cell_type": "code",
      "execution_count": null,
      "metadata": {
        "id": "UnylSHYFxEFg",
        "outputId": "4a8f59ef-9b20-4705-ec64-44d5f8185fed"
      },
      "outputs": [
        {
          "data": {
            "text/plain": [
              "array([[1.        , 0.94299033, 1.        , 0.94255773],\n",
              "       [0.94299033, 1.        , 1.        , 0.98      ],\n",
              "       [1.        , 1.        , 1.        , 0.97646729],\n",
              "       [0.94255773, 0.98      , 0.97646729, 1.        ]])"
            ]
          },
          "execution_count": 74,
          "metadata": {},
          "output_type": "execute_result"
        }
      ],
      "source": [
        "ubr.sim[:4, :4]"
      ]
    },
    {
      "cell_type": "markdown",
      "metadata": {
        "id": "SBybs-z7xEFg"
      },
      "source": [
        "## Utilizzare un modello\n",
        "\n",
        "Una volta addestrato, il modello può prevedere il rating che un utente darebbe ad un oggetto dati i rispettivi ID \"raw\", cioè quelli usati nel `Dataset` originale\n",
        "\n",
        "Ad esempio, estraiamo i nomi dell'utente e dell'oggetto che avevano indice 0 nella prima parte"
      ]
    },
    {
      "cell_type": "code",
      "execution_count": null,
      "metadata": {
        "id": "8L_8AoXxxEFg"
      },
      "outputs": [],
      "source": [
        "user0 = train_ratings.index[0]\n",
        "item0 = train_ratings.columns[0]"
      ]
    },
    {
      "cell_type": "markdown",
      "metadata": {
        "id": "1_yK7AjgxEFg"
      },
      "source": [
        "Passiamo i nomi al metodo `predict` per ottenere la predizione da parte del modello surprise"
      ]
    },
    {
      "cell_type": "code",
      "execution_count": null,
      "metadata": {
        "id": "K9g7pHhSxEFg"
      },
      "outputs": [],
      "source": [
        "pred = ubr.predict(user0, item0)"
      ]
    },
    {
      "cell_type": "markdown",
      "metadata": {
        "id": "oHLI2KXmxEFg"
      },
      "source": [
        "Otteniamo un oggetto `Prediction` i cui attributi riepilogano la richiesta (`uid` e `iid`) e forniscono i dati della predizione"
      ]
    },
    {
      "cell_type": "code",
      "execution_count": null,
      "metadata": {
        "id": "U6NANtfgxEFg",
        "outputId": "0cae50e9-b462-4fd9-8903-93376c3587eb"
      },
      "outputs": [
        {
          "data": {
            "text/plain": [
              "Prediction(uid='[1001561] D. Wetzel', iid='[100004] High School Confidential [VHS]', r_ui=None, est=5, details={'actual_k': 1, 'was_impossible': False})"
            ]
          },
          "execution_count": 77,
          "metadata": {},
          "output_type": "execute_result"
        }
      ],
      "source": [
        "pred"
      ]
    },
    {
      "cell_type": "markdown",
      "metadata": {
        "id": "vq1cqNcixEFh"
      },
      "source": [
        "- Il voto predetto è dato dall'attributo `est`, in questo caso 5 stelle\n",
        "- I `details` indicano informazioni aggiuntive, in questo caso che il voto è stato predetto sulla base di quello dato da 1 solo utente simile\n",
        "- `r_ui` è il voto reale (in questo caso non c'è, ma lo vedremo a breve)\n",
        "\n",
        "Possiamo accedere a tutti i dati come attributi dell'oggetto, ad es.:"
      ]
    },
    {
      "cell_type": "code",
      "execution_count": null,
      "metadata": {
        "id": "VZeMOXyqxEFh",
        "outputId": "ab6d79fe-40a7-4278-fb48-3870f0dc91d4"
      },
      "outputs": [
        {
          "data": {
            "text/plain": [
              "5"
            ]
          },
          "execution_count": 78,
          "metadata": {},
          "output_type": "execute_result"
        }
      ],
      "source": [
        "pred.est"
      ]
    },
    {
      "cell_type": "markdown",
      "metadata": {
        "id": "zpYB_PnoxEFh"
      },
      "source": [
        "Possiamo verificare che questa predizione è la stessa fatta dal modello costruito manualmente sopra"
      ]
    },
    {
      "cell_type": "code",
      "execution_count": null,
      "metadata": {
        "id": "1hHlpBk3xEFh",
        "outputId": "e1482ed0-3670-45ee-ca63-39a90292f514"
      },
      "outputs": [
        {
          "data": {
            "text/plain": [
              "5.0"
            ]
          },
          "execution_count": 79,
          "metadata": {},
          "output_type": "execute_result"
        }
      ],
      "source": [
        "predict_from_all(0, 0)"
      ]
    },
    {
      "cell_type": "markdown",
      "metadata": {
        "id": "lJUuhzb9xEFh"
      },
      "source": [
        "## Validare un modello\n",
        "\n",
        "Per eseguire la validazione del modello in surprise dobbiamo\n",
        "\n",
        "- costruire un validation set in forma di una lista di tuple `(utente, oggetto, voto)`\n",
        "- fornire questa lista al modello da validare per ottenere una lista di `Prediction` corrispondenti\n",
        "- calcolare una metrica di accuratezza (es. RMSE) su tale lista\n",
        "\n",
        "Per ottenere un validation set nella forma corretta, possiamo usare il metodo `build_testset`:"
      ]
    },
    {
      "cell_type": "code",
      "execution_count": null,
      "metadata": {
        "id": "-bZmYA5HxEFh"
      },
      "outputs": [],
      "source": [
        "valset = val_dataset.build_full_trainset().build_testset()"
      ]
    },
    {
      "cell_type": "code",
      "execution_count": null,
      "metadata": {
        "id": "piPFIcnVxEFh",
        "outputId": "66023b28-2a6d-44f0-9b36-4be86f6e4476"
      },
      "outputs": [
        {
          "data": {
            "text/plain": [
              "[('[1092996] Reviewer', '[4742] Nights of Cabiria [VHS]', 5.0),\n",
              " ('[1092996] Reviewer', '[50377] The Quiet Man [VHS]', 5.0),\n",
              " ('[1092996] Reviewer', '[51373] Home Alone 2 - Lost in New York [VHS]', 3.0)]"
            ]
          },
          "execution_count": 81,
          "metadata": {},
          "output_type": "execute_result"
        }
      ],
      "source": [
        "valset[:3]"
      ]
    },
    {
      "cell_type": "markdown",
      "metadata": {
        "id": "ElQL82sNxEFh"
      },
      "source": [
        "Tale lista va passata al metodo `test` del modello addestrato"
      ]
    },
    {
      "cell_type": "code",
      "execution_count": null,
      "metadata": {
        "id": "PW6JnLuFxEFh"
      },
      "outputs": [],
      "source": [
        "preds = ubr.test(valset)"
      ]
    },
    {
      "cell_type": "markdown",
      "metadata": {
        "id": "GikXOzKZxEFh"
      },
      "source": [
        "Otteniamo una lista di oggetti `Prediction`"
      ]
    },
    {
      "cell_type": "code",
      "execution_count": null,
      "metadata": {
        "id": "blFVcuUbxEFh",
        "outputId": "63d50a7f-c20e-4c31-f301-8f9ef1815877"
      },
      "outputs": [
        {
          "data": {
            "text/plain": [
              "[Prediction(uid='[1092996] Reviewer', iid='[4742] Nights of Cabiria [VHS]', r_ui=5.0, est=5, details={'actual_k': 4, 'was_impossible': False}),\n",
              " Prediction(uid='[1092996] Reviewer', iid='[50377] The Quiet Man [VHS]', r_ui=5.0, est=4.241931710095136, details={'actual_k': 4, 'was_impossible': False}),\n",
              " Prediction(uid='[1092996] Reviewer', iid='[51373] Home Alone 2 - Lost in New York [VHS]', r_ui=3.0, est=3.0, details={'actual_k': 1, 'was_impossible': False})]"
            ]
          },
          "execution_count": 83,
          "metadata": {},
          "output_type": "execute_result"
        }
      ],
      "source": [
        "preds[:3]"
      ]
    },
    {
      "cell_type": "markdown",
      "metadata": {
        "id": "1IzZoDAwxEFh"
      },
      "source": [
        "In ciascun oggetto troviamo rispettivamente in `r_ui` e in `est` i voti reali e predetti"
      ]
    },
    {
      "cell_type": "markdown",
      "metadata": {
        "id": "NCTNtP3NxEFh"
      },
      "source": [
        "Possiamo quindi passare questa lista ad una funzione per il calcolo di una metrica di accuratezza\n",
        "\n",
        "Calcoliamo ad esempio il RMSE come abbiamo fatto sopra, verificando che combaci"
      ]
    },
    {
      "cell_type": "code",
      "execution_count": null,
      "metadata": {
        "id": "mrgp5OuqxEFh",
        "outputId": "70cab52d-71bc-405a-8014-adbb4c139b38"
      },
      "outputs": [
        {
          "name": "stdout",
          "output_type": "stream",
          "text": [
            "RMSE: 1.1765\n"
          ]
        },
        {
          "data": {
            "text/plain": [
              "1.1764549883655138"
            ]
          },
          "execution_count": 84,
          "metadata": {},
          "output_type": "execute_result"
        }
      ],
      "source": [
        "from surprise.accuracy import rmse\n",
        "rmse(preds)"
      ]
    },
    {
      "cell_type": "markdown",
      "metadata": {
        "id": "X1u-3hH1xEFh"
      },
      "source": [
        "Un'altra metrica che può essere calcolata è il MAE (_mean absolute error_), la media degli errori in valore assoluto"
      ]
    },
    {
      "cell_type": "code",
      "execution_count": null,
      "metadata": {
        "id": "iMZ41DQzxEFh",
        "outputId": "7b20a999-7e1b-4631-fe92-1713efeca315"
      },
      "outputs": [
        {
          "name": "stdout",
          "output_type": "stream",
          "text": [
            "MAE:  0.8526\n"
          ]
        },
        {
          "data": {
            "text/plain": [
              "0.8525568703741262"
            ]
          },
          "execution_count": 85,
          "metadata": {},
          "output_type": "execute_result"
        }
      ],
      "source": [
        "from surprise.accuracy import mae\n",
        "mae(preds)"
      ]
    },
    {
      "cell_type": "markdown",
      "metadata": {
        "id": "rP42rL2WxEFh"
      },
      "source": [
        "### Esercizio 6: Modello user-based con vicinato\n",
        "\n",
        "- **(6a)** Addestrare sul training set un modello di recommendation user-based basato su similarità coseno e vicinato di 10 utenti, come quello costruito manualmente nella prima parte\n",
        "- **(6b)** Calcolare sul validation set il RMSE e il MAE di tale modello\n",
        "  - potrebbe risultare lievemente diverso da quello calcolato in precedenza per via di diversi utenti vicini selezionati nei casi di pari similarità"
      ]
    },
    {
      "cell_type": "markdown",
      "metadata": {
        "id": "XaSddxIxxEFh"
      },
      "source": [
        "## Varianti sul modello user-based\n",
        "\n",
        "Nel modello user-based è possibile utilizzare altre misure di similarità diverse dal coseno\n",
        "\n",
        "Una scelta comune è la _correlazione di Pearson_\n",
        "\n",
        "- in pratica consiste nella similarità coseno misurata non sui voti ma sul loro scarto rispetto alla media\n",
        "- questo bilancia le tendenze di voto diverse degli utenti, equiparando ad es. le 3 stelle di un utente alle 2 di uno più \"severo\"\n",
        "\n",
        "Per utilizzarla, specifichiamola in `sim_options` al posto del coseno"
      ]
    },
    {
      "cell_type": "code",
      "execution_count": null,
      "metadata": {
        "id": "BLLu_mKZxEFh"
      },
      "outputs": [],
      "source": [
        "ubr = KNNBasic(k=10, sim_options={\"name\": \"pearson\"})"
      ]
    },
    {
      "cell_type": "markdown",
      "metadata": {
        "id": "adVByBiWxEFh"
      },
      "source": [
        "Possiamo quindi addestrare e validare il modello come prima"
      ]
    },
    {
      "cell_type": "code",
      "execution_count": null,
      "metadata": {
        "id": "NOGTeGVDxEFh",
        "outputId": "a2f72e32-11d6-4ea7-8565-2cd17bb38629"
      },
      "outputs": [
        {
          "name": "stdout",
          "output_type": "stream",
          "text": [
            "Computing the pearson similarity matrix...\n",
            "Done computing similarity matrix.\n"
          ]
        },
        {
          "data": {
            "text/plain": [
              "<surprise.prediction_algorithms.knns.KNNBasic at 0x7f76e5c407d0>"
            ]
          },
          "execution_count": 92,
          "metadata": {},
          "output_type": "execute_result"
        }
      ],
      "source": [
        "ubr.fit(trainset)"
      ]
    },
    {
      "cell_type": "code",
      "execution_count": null,
      "metadata": {
        "id": "pq2SEOY4xEFh",
        "outputId": "67af623a-c4cf-4a20-bdb8-8c3dfe5ad688"
      },
      "outputs": [
        {
          "name": "stdout",
          "output_type": "stream",
          "text": [
            "RMSE: 1.1833\n",
            "MAE:  0.8782\n"
          ]
        },
        {
          "data": {
            "text/plain": [
              "(1.1833093002514359, 0.8782414100948562)"
            ]
          },
          "execution_count": 93,
          "metadata": {},
          "output_type": "execute_result"
        }
      ],
      "source": [
        "preds = ubr.test(valset)\n",
        "rmse(preds), mae(preds)"
      ]
    },
    {
      "cell_type": "markdown",
      "metadata": {
        "id": "9qt5i99ExEFi"
      },
      "source": [
        "In questo caso l'uso della correlazione di Pearson non ha migliorato il risultato"
      ]
    },
    {
      "cell_type": "markdown",
      "metadata": {
        "id": "Lb8MHrbuxEFi"
      },
      "source": [
        "Un altro modo per tenere conto delle differenze di voto medio tra gli utenti è riconsiderare il modo in cui è stimato il voto\n",
        "\n",
        "Invece di stimare direttamente il voto di $u$ come media di altri voti, possiamo stimare lo _scostamento dalla media_ del voto di $u$ come media degli scostamenti dalle rispettive medie di altri utenti\n",
        "\n",
        "$$ \\hat{r}_{u,i} = \\bar{r_u}+\\frac{\\sum_{v:P_{v,i}=1} \\text{sim}(u, v) \\cdot (r_{v,i}-\\bar{r_v})}{\\sum_{v:P_{v,i}=1} \\text{sim}(u, v)} $$\n",
        "\n",
        "Questo principio viene applicato nella classe `KNNWithMeans`, che per il resto è identica a `KNNBasic` e accetta le stesse opzioni"
      ]
    },
    {
      "cell_type": "code",
      "execution_count": null,
      "metadata": {
        "id": "vbgCyG18xEFi"
      },
      "outputs": [],
      "source": [
        "from surprise import KNNWithMeans\n",
        "ubr = KNNWithMeans(k=10, sim_options={\"name\": \"cosine\"})"
      ]
    },
    {
      "cell_type": "markdown",
      "metadata": {
        "id": "JC_2THXpxEFi"
      },
      "source": [
        "Addestriamo e validiamo il modello come al solito"
      ]
    },
    {
      "cell_type": "code",
      "execution_count": null,
      "metadata": {
        "id": "j1UIL7nUxEFi",
        "outputId": "fa7308de-39e4-49b3-f4db-b7a132f7d004"
      },
      "outputs": [
        {
          "name": "stdout",
          "output_type": "stream",
          "text": [
            "Computing the cosine similarity matrix...\n",
            "Done computing similarity matrix.\n"
          ]
        },
        {
          "data": {
            "text/plain": [
              "<surprise.prediction_algorithms.knns.KNNWithMeans at 0x7f76e5c42750>"
            ]
          },
          "execution_count": 95,
          "metadata": {},
          "output_type": "execute_result"
        }
      ],
      "source": [
        "ubr.fit(trainset)"
      ]
    },
    {
      "cell_type": "code",
      "execution_count": null,
      "metadata": {
        "id": "xCZ5g_Z8xEFi",
        "outputId": "bf7c6999-8d3a-4b2c-a7b1-9c14e6280808"
      },
      "outputs": [
        {
          "name": "stdout",
          "output_type": "stream",
          "text": [
            "RMSE: 1.0494\n",
            "MAE:  0.7699\n"
          ]
        },
        {
          "data": {
            "text/plain": [
              "(1.049420754780564, 0.7698569855396796)"
            ]
          },
          "execution_count": 96,
          "metadata": {},
          "output_type": "execute_result"
        }
      ],
      "source": [
        "preds = ubr.test(valset)\n",
        "rmse(preds), mae(preds)"
      ]
    },
    {
      "cell_type": "markdown",
      "metadata": {
        "id": "m06KYFSPxEFi"
      },
      "source": [
        "Otteniamo un RMSE migliore"
      ]
    },
    {
      "cell_type": "markdown",
      "metadata": {
        "id": "iB2ggh4JxEFi"
      },
      "source": [
        "## Collaborative filtering item-based\n",
        "\n",
        "La classe `KNNBasic` può essere usata anche per eseguire recommendation item-based, metodo duale allo user-based\n",
        "\n",
        "Il voto $\\hat{r}_{ui}$ previsto per un oggetto $i$ da parte di un utente $u$ è dato dalla media pesata dei voti dati da $u$ ai $k$ oggetti più simili ad $i$, rappresentati in un insieme $N_u^k(i)$\n",
        "\n",
        "$$ \\hat{r}_{ui} = \\frac{\\sum\\limits_{j \\in N^k_u(i)} \\text{sim}(i, j) \\cdot r_{uj}}{\\sum\\limits_{j \\in N^k_u(j)} \\text{sim}(i, j)} $$\n",
        "\n",
        "La similarità $\\text{sim}(i,j)$ tra due oggetti $i$ e $j$ è misurata dai voti ricevuti da utenti che hanno recensito entrambi\n",
        "\n",
        "Per eseguire item-based recommendation al posto di user-based, impostiamo `user_based=False` nelle opzioni della misura di similarità:"
      ]
    },
    {
      "cell_type": "code",
      "execution_count": null,
      "metadata": {
        "id": "GLNEgozsxEFi"
      },
      "outputs": [],
      "source": [
        "ibr = KNNBasic(k=10, sim_options={\"name\": \"cosine\", \"user_based\": False})"
      ]
    },
    {
      "cell_type": "markdown",
      "metadata": {
        "id": "8KbabpDYxEFi"
      },
      "source": [
        "Possiamo quindi addestrare e validare il modello come prima"
      ]
    },
    {
      "cell_type": "code",
      "execution_count": null,
      "metadata": {
        "id": "pqLvWv9LxEFi",
        "outputId": "83e1c81f-543d-4819-dd36-63771f3ea608"
      },
      "outputs": [
        {
          "name": "stdout",
          "output_type": "stream",
          "text": [
            "Computing the cosine similarity matrix...\n",
            "Done computing similarity matrix.\n"
          ]
        },
        {
          "data": {
            "text/plain": [
              "<surprise.prediction_algorithms.knns.KNNBasic at 0x7f76e5bcab50>"
            ]
          },
          "execution_count": 98,
          "metadata": {},
          "output_type": "execute_result"
        }
      ],
      "source": [
        "ibr.fit(trainset)"
      ]
    },
    {
      "cell_type": "code",
      "execution_count": null,
      "metadata": {
        "id": "HXAA4nd2xEFi",
        "outputId": "ce956ee9-8a20-4711-eb72-8b5aab867037"
      },
      "outputs": [
        {
          "name": "stdout",
          "output_type": "stream",
          "text": [
            "RMSE: 1.1381\n",
            "MAE:  0.8494\n"
          ]
        },
        {
          "data": {
            "text/plain": [
              "(1.1381231208660862, 0.849433685290423)"
            ]
          },
          "execution_count": 99,
          "metadata": {},
          "output_type": "execute_result"
        }
      ],
      "source": [
        "preds = ibr.test(valset)\n",
        "rmse(preds), mae(preds)"
      ]
    },
    {
      "cell_type": "markdown",
      "metadata": {
        "id": "U-89KXxdxEFi"
      },
      "source": [
        "## Collaborative filtering con fattorizzazione di matrici\n",
        "\n",
        "I metodi basati su fattorizzazione o scomposizione di matrici funzionano rappresentando utenti ed oggetti come combinazione di fattori\n",
        "- i fattori sono ricavati statisticamente dai dati e corrispondono a grandi linee a categorie di oggetti (es. per i film: azione, commedia, ...)\n",
        "- ciascun oggetto è rappresentato da un vettore col peso di ciascun fattore su di esso (es. quanto un film è d'azione)\n",
        "- il vettore di ciascun utente indica l'affinità a ciascun fattore (es. quanto gli piacciono i film d'azione)\n",
        "- il voto stimato è quindi proporzionale alla similarità tra il vettore dell'utente e quello del prodotto"
      ]
    },
    {
      "cell_type": "markdown",
      "metadata": {
        "id": "p6Yf49iixEFi"
      },
      "source": [
        "Il modello più semplice con fattorizzazione di matrici è `SVD` (_singular value decomposition_)\n",
        "\n",
        "- l'addestramento avviene internamente tramite una discesa gradiente _stocastica_, ovvero in cui i gradienti sono calcolati per efficienza su campioni casuali di dati\n",
        "- il parametro principale è il numero di fattori da individuare `n_factors`\n",
        "- con `n_epochs` si può invece controllare il numero di iterazioni di discesa gradiente\n",
        "- con `random_state` si può fornire un seed per la componente stocastica (necessario per la riproducibilità)"
      ]
    },
    {
      "cell_type": "code",
      "execution_count": null,
      "metadata": {
        "id": "fFYNVblLxEFi"
      },
      "outputs": [],
      "source": [
        "from surprise import SVD\n",
        "fbr = SVD(n_factors=10, random_state=42)"
      ]
    },
    {
      "cell_type": "code",
      "execution_count": null,
      "metadata": {
        "id": "NE6roD7vxEFi",
        "outputId": "038ac22d-97c1-488a-c9e7-57e99d6a5300"
      },
      "outputs": [
        {
          "data": {
            "text/plain": [
              "<surprise.prediction_algorithms.matrix_factorization.SVD at 0x7f76e5f513d0>"
            ]
          },
          "execution_count": 101,
          "metadata": {},
          "output_type": "execute_result"
        }
      ],
      "source": [
        "fbr.fit(trainset)"
      ]
    },
    {
      "cell_type": "code",
      "execution_count": null,
      "metadata": {
        "id": "CBiEBqXFxEFi",
        "outputId": "8b5a6bce-9997-49b3-fc07-5bd1c421292a"
      },
      "outputs": [
        {
          "name": "stdout",
          "output_type": "stream",
          "text": [
            "RMSE: 0.9565\n",
            "MAE:  0.7446\n"
          ]
        },
        {
          "data": {
            "text/plain": [
              "(0.9565151460041259, 0.7445630800807548)"
            ]
          },
          "execution_count": 102,
          "metadata": {},
          "output_type": "execute_result"
        }
      ],
      "source": [
        "preds = fbr.test(valset)\n",
        "rmse(preds), mae(preds)"
      ]
    },
    {
      "cell_type": "markdown",
      "metadata": {
        "id": "63hkBZx9xEFi"
      },
      "source": [
        "Il modello SVD fornisce risultati migliori di quelli sopra"
      ]
    },
    {
      "cell_type": "markdown",
      "metadata": {
        "id": "qQ4o-QKbxEFi"
      },
      "source": [
        "## Recommendation casuale\n",
        "\n",
        "Surprise offre anche un recommender `NormalPredictor` che prevede voti casuali, utilizzabile come baseline nella valutazione degli altri metodi\n",
        "\n",
        "I voti predetti hanno una distribuzione normale con media e varianza calcolate dal training set"
      ]
    },
    {
      "cell_type": "code",
      "execution_count": null,
      "metadata": {
        "id": "I_1EXFLtxEFi",
        "outputId": "5ca19a9e-8933-4ed4-def7-d23f1b6b51a1"
      },
      "outputs": [
        {
          "data": {
            "text/plain": [
              "<surprise.prediction_algorithms.random_pred.NormalPredictor at 0x7f7721de9c10>"
            ]
          },
          "execution_count": 103,
          "metadata": {},
          "output_type": "execute_result"
        }
      ],
      "source": [
        "from surprise import NormalPredictor\n",
        "rr = NormalPredictor()\n",
        "rr.fit(trainset)"
      ]
    },
    {
      "cell_type": "code",
      "execution_count": null,
      "metadata": {
        "id": "99iuh2lzxEFi",
        "outputId": "392f7fc5-9337-458a-ba66-212364b231fa"
      },
      "outputs": [
        {
          "name": "stdout",
          "output_type": "stream",
          "text": [
            "RMSE: 1.5246\n",
            "MAE:  1.1961\n"
          ]
        },
        {
          "data": {
            "text/plain": [
              "(1.5245717166881927, 1.196089312443043)"
            ]
          },
          "execution_count": 104,
          "metadata": {},
          "output_type": "execute_result"
        }
      ],
      "source": [
        "preds = rr.test(valset)\n",
        "rmse(preds), mae(preds)"
      ]
    },
    {
      "cell_type": "markdown",
      "metadata": {
        "id": "TASam7HHxEFi"
      },
      "source": [
        "Estraendo i voti a caso ad ogni chiamata, la valutazione eseguita più volte dà risultati diversi _(per impostare un seed prima dell'addestramento: `np.random.seed(123)`)_\n",
        "\n",
        "Ovviamente questo metodo è molto veloce ma ha un RMSE molto più alto"
      ]
    },
    {
      "cell_type": "markdown",
      "metadata": {
        "id": "Cw2V4h55xEFi"
      },
      "source": [
        "## Cross validation k-fold\n",
        "\n",
        "Per eseguire la validazione dei modelli provati, abbiamo fin quì usato il metodo _hold-out_, cioè la divisione tra un training e un validation set predefiniti\n",
        "\n",
        "Come visto nei modelli di regressione, possiamo ottenere una validazione più accurata con la cross validation a _k_ fold: il dataset è suddiviso casualmente in _k_ gruppi, ciascuno è usato come validation set di un modello addestrato su tutti gli altri\n",
        "\n",
        "Surprise fornisce funzionalità per la cross validation con un API molto simile a quella di scikit-learn\n",
        "\n",
        "Per definire come suddividere il dataset creiamo un oggetto `KFold`, specificando il numero di fold da creare e un seed per la casualità"
      ]
    },
    {
      "cell_type": "code",
      "execution_count": null,
      "metadata": {
        "id": "3bIbKnGPxEFj"
      },
      "outputs": [],
      "source": [
        "from surprise.model_selection import KFold\n",
        "kf = KFold(n_splits=3, shuffle=True, random_state=42)"
      ]
    },
    {
      "cell_type": "markdown",
      "metadata": {
        "id": "_Ry2fW0MxEFj"
      },
      "source": [
        "Per eseguire una cross validation possiamo usare la funzione `cross_validate` indicando\n",
        "\n",
        "- il modello (algoritmo e parametri) su cui eseguire la validazione\n",
        "- il `Dataset` da utilizzare\n",
        "- il criterio di split da usare, ad es. il `KFold` sopra\n",
        "- le misure di accuratezza da calcolare (default: RMSE e MAE)\n",
        "\n",
        "Prendiamo ad esempio il modello user-based basato su 10 vicini e similarità coseno visto prima"
      ]
    },
    {
      "cell_type": "code",
      "execution_count": null,
      "metadata": {
        "id": "g69WrqxnxEFj",
        "outputId": "d2a235b4-6792-40cd-9186-bdf787ae68c6"
      },
      "outputs": [
        {
          "name": "stdout",
          "output_type": "stream",
          "text": [
            "Computing the cosine similarity matrix...\n",
            "Done computing similarity matrix.\n",
            "Computing the cosine similarity matrix...\n",
            "Done computing similarity matrix.\n",
            "Computing the cosine similarity matrix...\n",
            "Done computing similarity matrix.\n"
          ]
        }
      ],
      "source": [
        "from surprise.model_selection import cross_validate\n",
        "model = KNNBasic(k=10, sim_options={\"name\": \"cosine\"})\n",
        "cv_results = cross_validate(model, train_dataset, cv=kf)"
      ]
    },
    {
      "cell_type": "markdown",
      "metadata": {
        "id": "4blFI0eaxEFj"
      },
      "source": [
        "Come in scikit-learn, otteniamo un dizionario che possiamo visualizzare comodamente in un frame pandas"
      ]
    },
    {
      "cell_type": "code",
      "execution_count": null,
      "metadata": {
        "id": "UhSrjWssxEFj",
        "outputId": "6c133d75-5215-45d4-9220-894f6c3c4d86"
      },
      "outputs": [
        {
          "data": {
            "text/html": [
              "<div>\n",
              "<style scoped>\n",
              "    .dataframe tbody tr th:only-of-type {\n",
              "        vertical-align: middle;\n",
              "    }\n",
              "\n",
              "    .dataframe tbody tr th {\n",
              "        vertical-align: top;\n",
              "    }\n",
              "\n",
              "    .dataframe thead th {\n",
              "        text-align: right;\n",
              "    }\n",
              "</style>\n",
              "<table border=\"1\" class=\"dataframe\">\n",
              "  <thead>\n",
              "    <tr style=\"text-align: right;\">\n",
              "      <th></th>\n",
              "      <th>test_rmse</th>\n",
              "      <th>test_mae</th>\n",
              "      <th>fit_time</th>\n",
              "      <th>test_time</th>\n",
              "    </tr>\n",
              "  </thead>\n",
              "  <tbody>\n",
              "    <tr>\n",
              "      <th>0</th>\n",
              "      <td>1.254324</td>\n",
              "      <td>0.951606</td>\n",
              "      <td>0.001097</td>\n",
              "      <td>0.011674</td>\n",
              "    </tr>\n",
              "    <tr>\n",
              "      <th>1</th>\n",
              "      <td>1.231866</td>\n",
              "      <td>0.926686</td>\n",
              "      <td>0.001492</td>\n",
              "      <td>0.012643</td>\n",
              "    </tr>\n",
              "    <tr>\n",
              "      <th>2</th>\n",
              "      <td>1.251063</td>\n",
              "      <td>0.937161</td>\n",
              "      <td>0.001185</td>\n",
              "      <td>0.012003</td>\n",
              "    </tr>\n",
              "  </tbody>\n",
              "</table>\n",
              "</div>"
            ],
            "text/plain": [
              "   test_rmse  test_mae  fit_time  test_time\n",
              "0   1.254324  0.951606  0.001097   0.011674\n",
              "1   1.231866  0.926686  0.001492   0.012643\n",
              "2   1.251063  0.937161  0.001185   0.012003"
            ]
          },
          "execution_count": 107,
          "metadata": {},
          "output_type": "execute_result"
        }
      ],
      "source": [
        "pd.DataFrame(cv_results)"
      ]
    },
    {
      "cell_type": "markdown",
      "metadata": {
        "id": "EGbTDgZQxEFj"
      },
      "source": [
        "- Ogni riga corrisponde ad un fold\n",
        "- Le colonne `fit_time` e `test_time` riportano il tempo (in secondi) richiesto per addestramento e validazione\n",
        "- Le colonne `test_rmse` e `test_mae` riportano le misure di accuratezza\n",
        "\n",
        "Possiamo usare le medie dei valori come valutazioni generali del modello testato sui dati"
      ]
    },
    {
      "cell_type": "code",
      "execution_count": null,
      "metadata": {
        "id": "DfkijlTAxEFj",
        "outputId": "6cdb75df-338a-4fad-df45-9c262bea7f89"
      },
      "outputs": [
        {
          "data": {
            "text/plain": [
              "1.2457509255127395"
            ]
          },
          "execution_count": 108,
          "metadata": {},
          "output_type": "execute_result"
        }
      ],
      "source": [
        "cv_results[\"test_rmse\"].mean()"
      ]
    },
    {
      "cell_type": "markdown",
      "metadata": {
        "id": "6GQjuh2SxEFj"
      },
      "source": [
        "## Grid search\n",
        "\n",
        "Come i modelli di regressione, anche quelli di recommendation hanno degli iperparametri da impostare che possono influenzarne l'accuratezza, ad esempio il numero k di vicini nella recommendation user-based\n",
        "\n",
        "Surprise offre una funzionalità di _grid search_ simile a quella di scikit-learn per testare diversi valori dei parametri\n",
        "\n",
        "Vediamo ad esempio l'efficacia della user-based recommendation al variare di k e della misura di similarità\n",
        "\n",
        "Si definisce una \"griglia\" con i valori possibili dei parametri"
      ]
    },
    {
      "cell_type": "code",
      "execution_count": null,
      "metadata": {
        "id": "kF3Skr_5xEFj"
      },
      "outputs": [],
      "source": [
        "grid = {\n",
        "    \"k\": [5, 10, 20],\n",
        "    \"sim_options\": {\"name\": [\"cosine\", \"pearson\"]}\n",
        "}"
      ]
    },
    {
      "cell_type": "markdown",
      "metadata": {
        "id": "8TJRMtgvxEFj"
      },
      "source": [
        "Si crea quindi un oggetto `GridSearchCV` passando il modello da testare, la griglia dei parametri e il metodo di split per la validazione\n",
        "\n",
        "**Differentemente da scikit-learn** va passata _la classe_ del modello da usare (in questo caso `KNNBasic`), non una sua istanza. Se la classe ha dei parametri con valori fissi, questi possono essere inseriti nella griglia insieme a quelli variabili.\n",
        "\n",
        "Con `refit=True` specifichiamo che alla fine va riaddestrato su tutti i dati un modello con i parametri risultati migliori (di default basandosi sul RMSE)"
      ]
    },
    {
      "cell_type": "code",
      "execution_count": null,
      "metadata": {
        "id": "r4r3_sQ_xEFj"
      },
      "outputs": [],
      "source": [
        "from surprise.model_selection import GridSearchCV\n",
        "gs = GridSearchCV(KNNBasic, grid, cv=kf, refit=True)"
      ]
    },
    {
      "cell_type": "markdown",
      "metadata": {
        "id": "Z7UOSyujxEFj"
      },
      "source": [
        "Si chiama quindi il metodo `fit` passando il `Dataset` con i dati"
      ]
    },
    {
      "cell_type": "code",
      "execution_count": null,
      "metadata": {
        "id": "oSnq1AbGxEFj",
        "outputId": "12163bdf-1c6e-4523-9801-f5d1b0aa5f01"
      },
      "outputs": [
        {
          "name": "stdout",
          "output_type": "stream",
          "text": [
            "Computing the cosine similarity matrix...\n",
            "Done computing similarity matrix.\n",
            "Computing the cosine similarity matrix...\n",
            "Done computing similarity matrix.\n",
            "Computing the cosine similarity matrix...\n",
            "Done computing similarity matrix.\n",
            "Computing the pearson similarity matrix...\n",
            "Done computing similarity matrix.\n",
            "Computing the pearson similarity matrix...\n",
            "Done computing similarity matrix.\n",
            "Computing the pearson similarity matrix...\n",
            "Done computing similarity matrix.\n",
            "Computing the cosine similarity matrix...\n",
            "Done computing similarity matrix.\n",
            "Computing the cosine similarity matrix...\n",
            "Done computing similarity matrix.\n",
            "Computing the cosine similarity matrix...\n",
            "Done computing similarity matrix.\n",
            "Computing the pearson similarity matrix...\n",
            "Done computing similarity matrix.\n",
            "Computing the pearson similarity matrix...\n",
            "Done computing similarity matrix.\n",
            "Computing the pearson similarity matrix...\n",
            "Done computing similarity matrix.\n",
            "Computing the cosine similarity matrix...\n",
            "Done computing similarity matrix.\n",
            "Computing the cosine similarity matrix...\n",
            "Done computing similarity matrix.\n",
            "Computing the cosine similarity matrix...\n",
            "Done computing similarity matrix.\n",
            "Computing the pearson similarity matrix...\n",
            "Done computing similarity matrix.\n",
            "Computing the pearson similarity matrix...\n",
            "Done computing similarity matrix.\n",
            "Computing the pearson similarity matrix...\n",
            "Done computing similarity matrix.\n",
            "Computing the pearson similarity matrix...\n",
            "Done computing similarity matrix.\n"
          ]
        }
      ],
      "source": [
        "gs.fit(train_dataset)"
      ]
    },
    {
      "cell_type": "markdown",
      "metadata": {
        "id": "RwXnhPEbxEFj"
      },
      "source": [
        "L'oggetto addestrato può essere ispezionato in modo simile a scikit-learn\n",
        "\n",
        "L'attributo `best_params` fornisce la combinazione di parametri risultata migliore per ciascuna metrica di accuratezza"
      ]
    },
    {
      "cell_type": "code",
      "execution_count": null,
      "metadata": {
        "id": "HPTVDUGTxEFj",
        "outputId": "735c0dbc-991e-4a71-9b7d-f927fb29e842"
      },
      "outputs": [
        {
          "data": {
            "text/plain": [
              "{'rmse': {'k': 10, 'sim_options': {'name': 'pearson', 'user_based': True}},\n",
              " 'mae': {'k': 10, 'sim_options': {'name': 'cosine', 'user_based': True}}}"
            ]
          },
          "execution_count": 112,
          "metadata": {},
          "output_type": "execute_result"
        }
      ],
      "source": [
        "gs.best_params"
      ]
    },
    {
      "cell_type": "markdown",
      "metadata": {
        "id": "TxxYirAGxEFj"
      },
      "source": [
        "`cv_results` fornisce tutti i risultati, può essere visualizzato come frame con le righe ordinate per RMSE o MAE medio"
      ]
    },
    {
      "cell_type": "code",
      "execution_count": null,
      "metadata": {
        "id": "YJqzSgkCxEFj",
        "outputId": "0854e473-b247-4253-8111-f5a1c7629e10"
      },
      "outputs": [
        {
          "data": {
            "text/html": [
              "<div>\n",
              "<style scoped>\n",
              "    .dataframe tbody tr th:only-of-type {\n",
              "        vertical-align: middle;\n",
              "    }\n",
              "\n",
              "    .dataframe tbody tr th {\n",
              "        vertical-align: top;\n",
              "    }\n",
              "\n",
              "    .dataframe thead th {\n",
              "        text-align: right;\n",
              "    }\n",
              "</style>\n",
              "<table border=\"1\" class=\"dataframe\">\n",
              "  <thead>\n",
              "    <tr style=\"text-align: right;\">\n",
              "      <th></th>\n",
              "      <th>split0_test_rmse</th>\n",
              "      <th>split1_test_rmse</th>\n",
              "      <th>split2_test_rmse</th>\n",
              "      <th>mean_test_rmse</th>\n",
              "      <th>std_test_rmse</th>\n",
              "      <th>rank_test_rmse</th>\n",
              "      <th>split0_test_mae</th>\n",
              "      <th>split1_test_mae</th>\n",
              "      <th>split2_test_mae</th>\n",
              "      <th>mean_test_mae</th>\n",
              "      <th>std_test_mae</th>\n",
              "      <th>rank_test_mae</th>\n",
              "      <th>mean_fit_time</th>\n",
              "      <th>std_fit_time</th>\n",
              "      <th>mean_test_time</th>\n",
              "      <th>std_test_time</th>\n",
              "      <th>params</th>\n",
              "      <th>param_k</th>\n",
              "      <th>param_sim_options</th>\n",
              "    </tr>\n",
              "  </thead>\n",
              "  <tbody>\n",
              "    <tr>\n",
              "      <th>3</th>\n",
              "      <td>1.255051</td>\n",
              "      <td>1.227805</td>\n",
              "      <td>1.233077</td>\n",
              "      <td>1.238644</td>\n",
              "      <td>0.011799</td>\n",
              "      <td>1</td>\n",
              "      <td>0.967408</td>\n",
              "      <td>0.946476</td>\n",
              "      <td>0.942974</td>\n",
              "      <td>0.952286</td>\n",
              "      <td>0.010788</td>\n",
              "      <td>4</td>\n",
              "      <td>0.000994</td>\n",
              "      <td>0.000121</td>\n",
              "      <td>0.009929</td>\n",
              "      <td>0.000102</td>\n",
              "      <td>{'k': 10, 'sim_options': {'name': 'pearson', '...</td>\n",
              "      <td>10</td>\n",
              "      <td>{'name': 'pearson', 'user_based': True}</td>\n",
              "    </tr>\n",
              "    <tr>\n",
              "      <th>5</th>\n",
              "      <td>1.255065</td>\n",
              "      <td>1.227821</td>\n",
              "      <td>1.233085</td>\n",
              "      <td>1.238657</td>\n",
              "      <td>0.011800</td>\n",
              "      <td>2</td>\n",
              "      <td>0.967457</td>\n",
              "      <td>0.946491</td>\n",
              "      <td>0.942922</td>\n",
              "      <td>0.952290</td>\n",
              "      <td>0.010823</td>\n",
              "      <td>5</td>\n",
              "      <td>0.001004</td>\n",
              "      <td>0.000086</td>\n",
              "      <td>0.010361</td>\n",
              "      <td>0.000862</td>\n",
              "      <td>{'k': 20, 'sim_options': {'name': 'pearson', '...</td>\n",
              "      <td>20</td>\n",
              "      <td>{'name': 'pearson', 'user_based': True}</td>\n",
              "    </tr>\n",
              "    <tr>\n",
              "      <th>1</th>\n",
              "      <td>1.255666</td>\n",
              "      <td>1.227754</td>\n",
              "      <td>1.233733</td>\n",
              "      <td>1.239051</td>\n",
              "      <td>0.011999</td>\n",
              "      <td>3</td>\n",
              "      <td>0.968043</td>\n",
              "      <td>0.946195</td>\n",
              "      <td>0.943654</td>\n",
              "      <td>0.952631</td>\n",
              "      <td>0.010948</td>\n",
              "      <td>6</td>\n",
              "      <td>0.001257</td>\n",
              "      <td>0.000253</td>\n",
              "      <td>0.025111</td>\n",
              "      <td>0.018174</td>\n",
              "      <td>{'k': 5, 'sim_options': {'name': 'pearson', 'u...</td>\n",
              "      <td>5</td>\n",
              "      <td>{'name': 'pearson', 'user_based': True}</td>\n",
              "    </tr>\n",
              "    <tr>\n",
              "      <th>4</th>\n",
              "      <td>1.252696</td>\n",
              "      <td>1.231326</td>\n",
              "      <td>1.249788</td>\n",
              "      <td>1.244603</td>\n",
              "      <td>0.009463</td>\n",
              "      <td>4</td>\n",
              "      <td>0.951588</td>\n",
              "      <td>0.927287</td>\n",
              "      <td>0.937037</td>\n",
              "      <td>0.938637</td>\n",
              "      <td>0.009985</td>\n",
              "      <td>2</td>\n",
              "      <td>0.000825</td>\n",
              "      <td>0.000184</td>\n",
              "      <td>0.010481</td>\n",
              "      <td>0.000470</td>\n",
              "      <td>{'k': 20, 'sim_options': {'name': 'cosine', 'u...</td>\n",
              "      <td>20</td>\n",
              "      <td>{'name': 'cosine', 'user_based': True}</td>\n",
              "    </tr>\n",
              "    <tr>\n",
              "      <th>2</th>\n",
              "      <td>1.254324</td>\n",
              "      <td>1.231866</td>\n",
              "      <td>1.251063</td>\n",
              "      <td>1.245751</td>\n",
              "      <td>0.009908</td>\n",
              "      <td>5</td>\n",
              "      <td>0.951606</td>\n",
              "      <td>0.926686</td>\n",
              "      <td>0.937161</td>\n",
              "      <td>0.938484</td>\n",
              "      <td>0.010217</td>\n",
              "      <td>1</td>\n",
              "      <td>0.000792</td>\n",
              "      <td>0.000054</td>\n",
              "      <td>0.011506</td>\n",
              "      <td>0.000776</td>\n",
              "      <td>{'k': 10, 'sim_options': {'name': 'cosine', 'u...</td>\n",
              "      <td>10</td>\n",
              "      <td>{'name': 'cosine', 'user_based': True}</td>\n",
              "    </tr>\n",
              "    <tr>\n",
              "      <th>0</th>\n",
              "      <td>1.261489</td>\n",
              "      <td>1.239035</td>\n",
              "      <td>1.255559</td>\n",
              "      <td>1.252028</td>\n",
              "      <td>0.009501</td>\n",
              "      <td>6</td>\n",
              "      <td>0.953364</td>\n",
              "      <td>0.930041</td>\n",
              "      <td>0.938673</td>\n",
              "      <td>0.940693</td>\n",
              "      <td>0.009628</td>\n",
              "      <td>3</td>\n",
              "      <td>0.000987</td>\n",
              "      <td>0.000326</td>\n",
              "      <td>0.013463</td>\n",
              "      <td>0.000338</td>\n",
              "      <td>{'k': 5, 'sim_options': {'name': 'cosine', 'us...</td>\n",
              "      <td>5</td>\n",
              "      <td>{'name': 'cosine', 'user_based': True}</td>\n",
              "    </tr>\n",
              "  </tbody>\n",
              "</table>\n",
              "</div>"
            ],
            "text/plain": [
              "   split0_test_rmse  split1_test_rmse  split2_test_rmse  mean_test_rmse  \\\n",
              "3          1.255051          1.227805          1.233077        1.238644   \n",
              "5          1.255065          1.227821          1.233085        1.238657   \n",
              "1          1.255666          1.227754          1.233733        1.239051   \n",
              "4          1.252696          1.231326          1.249788        1.244603   \n",
              "2          1.254324          1.231866          1.251063        1.245751   \n",
              "0          1.261489          1.239035          1.255559        1.252028   \n",
              "\n",
              "   std_test_rmse  rank_test_rmse  split0_test_mae  split1_test_mae  \\\n",
              "3       0.011799               1         0.967408         0.946476   \n",
              "5       0.011800               2         0.967457         0.946491   \n",
              "1       0.011999               3         0.968043         0.946195   \n",
              "4       0.009463               4         0.951588         0.927287   \n",
              "2       0.009908               5         0.951606         0.926686   \n",
              "0       0.009501               6         0.953364         0.930041   \n",
              "\n",
              "   split2_test_mae  mean_test_mae  std_test_mae  rank_test_mae  mean_fit_time  \\\n",
              "3         0.942974       0.952286      0.010788              4       0.000994   \n",
              "5         0.942922       0.952290      0.010823              5       0.001004   \n",
              "1         0.943654       0.952631      0.010948              6       0.001257   \n",
              "4         0.937037       0.938637      0.009985              2       0.000825   \n",
              "2         0.937161       0.938484      0.010217              1       0.000792   \n",
              "0         0.938673       0.940693      0.009628              3       0.000987   \n",
              "\n",
              "   std_fit_time  mean_test_time  std_test_time  \\\n",
              "3      0.000121        0.009929       0.000102   \n",
              "5      0.000086        0.010361       0.000862   \n",
              "1      0.000253        0.025111       0.018174   \n",
              "4      0.000184        0.010481       0.000470   \n",
              "2      0.000054        0.011506       0.000776   \n",
              "0      0.000326        0.013463       0.000338   \n",
              "\n",
              "                                              params  param_k  \\\n",
              "3  {'k': 10, 'sim_options': {'name': 'pearson', '...       10   \n",
              "5  {'k': 20, 'sim_options': {'name': 'pearson', '...       20   \n",
              "1  {'k': 5, 'sim_options': {'name': 'pearson', 'u...        5   \n",
              "4  {'k': 20, 'sim_options': {'name': 'cosine', 'u...       20   \n",
              "2  {'k': 10, 'sim_options': {'name': 'cosine', 'u...       10   \n",
              "0  {'k': 5, 'sim_options': {'name': 'cosine', 'us...        5   \n",
              "\n",
              "                         param_sim_options  \n",
              "3  {'name': 'pearson', 'user_based': True}  \n",
              "5  {'name': 'pearson', 'user_based': True}  \n",
              "1  {'name': 'pearson', 'user_based': True}  \n",
              "4   {'name': 'cosine', 'user_based': True}  \n",
              "2   {'name': 'cosine', 'user_based': True}  \n",
              "0   {'name': 'cosine', 'user_based': True}  "
            ]
          },
          "execution_count": 113,
          "metadata": {},
          "output_type": "execute_result"
        }
      ],
      "source": [
        "pd.DataFrame(gs.cv_results).sort_values(\"mean_test_rmse\")"
      ]
    },
    {
      "cell_type": "markdown",
      "metadata": {
        "id": "bYyZfkQxxEFj"
      },
      "source": [
        "Possiamo utilizzare l'oggetto come modello, validandolo ad esempio sui dati non utilizzati del validation set"
      ]
    },
    {
      "cell_type": "code",
      "execution_count": null,
      "metadata": {
        "id": "nXb4EHYgxEFj",
        "outputId": "6d7f40ba-2c75-4e0d-f8e2-181bbd1bfcb3"
      },
      "outputs": [
        {
          "name": "stdout",
          "output_type": "stream",
          "text": [
            "RMSE: 1.1833\n",
            "MAE:  0.8782\n"
          ]
        },
        {
          "data": {
            "text/plain": [
              "(1.1833093002514359, 0.8782414100948562)"
            ]
          },
          "execution_count": 114,
          "metadata": {},
          "output_type": "execute_result"
        }
      ],
      "source": [
        "preds = gs.test(valset)\n",
        "rmse(preds), mae(preds)"
      ]
    },
    {
      "cell_type": "markdown",
      "metadata": {
        "id": "dETWwKxexEFj"
      },
      "source": [
        "### Esercizio 7: Grid search\n",
        "\n",
        "- **(7a)** Con una grid search, usando stessi dati e criterio di split usati sopra, individuare il valore ottimale (in termini di RMSE) del parametro `n_factors` per un modello `SVD`, testando i valori 3, 6, 9, ..., 30\n",
        "- **(7b)** Calcolare RMSE e MAE sul validation set del modello migliore individuato"
      ]
    },
    {
      "cell_type": "markdown",
      "metadata": {
        "id": "O7ITMKBCxEFj"
      },
      "source": [
        "## Esercizio 8: Suggerire prodotti agli utenti\n",
        "\n",
        "Un modello di recommendation è in genere utilizzato, basandosi sui voti predetti, per suggerire un numero di prodotti ad un dato utente\n",
        "\n",
        "- **(8a)** Usando il modello ottenuto nell'esercizio 7, estrarre una lista di `Prediction` con i voti predetti per l'utente `target_user` definito sotto su tutti i prodotti nel training set\n",
        "  - per scorrere tutti i prodotti, scorrere gli indici del `trainset` da 0 a `n_items-1` e usare `trainset.to_raw_iid` per ottenere i nomi corrispondenti\n",
        "  - per semplicità, non è necessario escludere i prodotti già valutati\n",
        "- **(8b)** Stampare i nomi dei 10 prodotti con voto predetto più alto\n",
        "- **(8c)** Definire una funzione `recommend` che, dato un nome utente e un numero di prodotti da suggerire, restituisca una lista di nomi di prodotti suggeriti ottenuta come nei punti sopra"
      ]
    },
    {
      "cell_type": "code",
      "execution_count": null,
      "metadata": {
        "id": "F2MLZeEhxEFj"
      },
      "outputs": [],
      "source": [
        "target_user = \"[624547] Roland E. Zwick\""
      ]
    }
  ],
  "metadata": {
    "kernelspec": {
      "display_name": "DIA",
      "language": "python",
      "name": "dia"
    },
    "language_info": {
      "codemirror_mode": {
        "name": "ipython",
        "version": 3
      },
      "file_extension": ".py",
      "mimetype": "text/x-python",
      "name": "python",
      "nbconvert_exporter": "python",
      "pygments_lexer": "ipython3",
      "version": "3.11.8"
    },
    "colab": {
      "provenance": [],
      "include_colab_link": true
    }
  },
  "nbformat": 4,
  "nbformat_minor": 0
}